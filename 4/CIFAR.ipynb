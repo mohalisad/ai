{
 "cells": [
  {
   "cell_type": "code",
   "execution_count": 1,
   "metadata": {},
   "outputs": [
    {
     "data": {
      "text/html": [
       "<style>@font-face{font-family:Vazir;src:url(Vazir.eot);src:url(Vazir.eot?#iefix) format(\"embedded-opentype\"),url(Vazir.woff2) format(\"woff2\"),url(Vazir.woff) format(\"woff\"),url(Vazir.ttf) format(\"truetype\");font-weight:400;font-style:normal}.farsi{font-family:Vazir;direction:rtl}.center{text-align:center}.justify{text-align:justify}.blue{color:blue}<style>\n"
      ],
      "text/plain": [
       "<IPython.core.display.HTML object>"
      ]
     },
     "metadata": {},
     "output_type": "display_data"
    }
   ],
   "source": [
    "%%html\n",
    "<style>@font-face{font-family:Vazir;src:url(Vazir.eot);src:url(Vazir.eot?#iefix) format(\"embedded-opentype\"),url(Vazir.woff2) format(\"woff2\"),url(Vazir.woff) format(\"woff\"),url(Vazir.ttf) format(\"truetype\");font-weight:400;font-style:normal}.farsi{font-family:Vazir;direction:rtl}.center{text-align:center}.justify{text-align:justify}.blue{color:blue}<style>"
   ]
  },
  {
   "cell_type": "markdown",
   "metadata": {},
   "source": [
    "## <div class = \"farsi center blue\">خواندن از فایل ها</div>"
   ]
  },
  {
   "cell_type": "code",
   "execution_count": 2,
   "metadata": {},
   "outputs": [],
   "source": [
    "import pandas as pd\n",
    "import numpy as np\n",
    "\n",
    "CIFAR_LENGTH = 32\n",
    "train_data   = pd.read_csv('CIFAR10/CIFAR10_train_data.csv' ,header=None)\n",
    "train_label  = pd.read_csv('CIFAR10/CIFAR10_train_label.csv',header=None)\n",
    "test_data    = pd.read_csv('CIFAR10/CIFAR10_val_data.csv'   ,header=None)\n",
    "test_label   = pd.read_csv('CIFAR10/CIFAR10_val_label.csv'  ,header=None)\n",
    "real_test    = pd.read_csv('CIFAR10/CIFAR10_test_data.csv'  ,header=None)\n",
    "print('loading........done')"
   ]
  },
  {
   "cell_type": "markdown",
   "metadata": {},
   "source": [
    "## <div class = \"farsi center blue\">توابع اولیه</div>"
   ]
  },
  {
   "cell_type": "code",
   "execution_count": 111,
   "metadata": {},
   "outputs": [],
   "source": [
    "from PIL import Image\n",
    "from matplotlib.pyplot import imshow\n",
    "\n",
    "def vec_to_img(img_vec):\n",
    "    img_vec = img_vec.astype(np.uint8)\n",
    "    img_arr = np.asarray(img_vec).reshape((32,32,3))\n",
    "    return Image.fromarray(img_arr, 'RGB')\n",
    "def img_to_vec(img):\n",
    "    arr = np.array(img)\n",
    "    return arr.ravel()\n",
    "def print_img(img):\n",
    "    imshow(np.asarray(img))\n",
    "def calc_grade(perdicts,source = test_label):\n",
    "    np_source = np.array(source)\n",
    "    np_perdicts = np.array(perdicts)\n",
    "    return np.count_nonzero(np_perdicts==np_source)/len(np_source)"
   ]
  },
  {
   "cell_type": "code",
   "execution_count": 119,
   "metadata": {},
   "outputs": [
    {
     "name": "stdout",
     "output_type": "stream",
     "text": [
      "horse\n"
     ]
    },
    {
     "data": {
      "image/png": "[encoded data removed]",
      "text/plain": [
       "<Figure size 432x288 with 1 Axes>"
      ]
     },
     "metadata": {
      "needs_background": "light"
     },
     "output_type": "display_data"
    }
   ],
   "source": [
    "i = 131\n",
    "img = vec_to_img(train_data.values[i])\n",
    "# img = img.convert('L')\n",
    "# print(np.array(img).shape)\n",
    "img = img.convert('RGB')\n",
    "print_img(img)\n",
    "print(train_label[0].values[i])"
   ]
  },
  {
   "cell_type": "code",
   "execution_count": 121,
   "metadata": {},
   "outputs": [],
   "source": [
    "t = train_data.apply(lambda x:img_to_vec(vec_to_img(x).convert('L')),axis = 1,result_type = 'expand')"
   ]
  },
  {
   "cell_type": "code",
   "execution_count": 123,
   "metadata": {},
   "outputs": [],
   "source": [
    "t2 = test_data.apply(lambda x:img_to_vec(vec_to_img(x).convert('L')),axis = 1,result_type = 'expand')"
   ]
  },
  {
   "cell_type": "code",
   "execution_count": null,
   "metadata": {},
   "outputs": [],
   "source": [
    "from sklearn.linear_model import LogisticRegression\n",
    "lr = LogisticRegression(solver='liblinear', multi_class='ovr')\n",
    "lr.fit(t.values,train_label[0].values)\n",
    "lr_predicted = lr.predict(t2.values)\n",
    "print(calc_grade(lr_predicted))"
   ]
  },
  {
   "cell_type": "code",
   "execution_count": null,
   "metadata": {},
   "outputs": [],
   "source": []
  }
 ],
 "metadata": {
  "kernelspec": {
   "display_name": "Python 3",
   "language": "python",
   "name": "python3"
  },
  "language_info": {
   "codemirror_mode": {
    "name": "ipython",
    "version": 3
   },
   "file_extension": ".py",
   "mimetype": "text/x-python",
   "name": "python",
   "nbconvert_exporter": "python",
   "pygments_lexer": "ipython3",
   "version": "3.7.1"
  }
 },
 "nbformat": 4,
 "nbformat_minor": 2
}
