{
 "cells": [
  {
   "cell_type": "code",
   "execution_count": 8,
   "metadata": {},
   "outputs": [
    {
     "data": {
      "text/html": [
       "<style>\n",
       "@font-face {\n",
       "    font-family: Vazir;\n",
       "    src: url('Vazir.eot');\n",
       "    src: url('Vazir.eot?#iefix') format('embedded-opentype'),\n",
       "         url('Vazir.woff2') format('woff2'),\n",
       "         url('Vazir.woff') format('woff'),\n",
       "         url('Vazir.ttf') format('truetype');\n",
       "    font-weight: normal;\n",
       "    font-style: normal;\n",
       "}\n",
       ".farsi{\n",
       "    font-family:Vazir;\n",
       "    direction: rtl;\n",
       "    #font-size:26px;\n",
       "}\n",
       ".center{\n",
       "    text-align: center;\n",
       "}\n",
       "</style>\n",
       "<script>\n",
       "    //$('div.input').hide();\n",
       "</script>\n"
      ],
      "text/plain": [
       "<IPython.core.display.HTML object>"
      ]
     },
     "metadata": {},
     "output_type": "display_data"
    }
   ],
   "source": [
    "%%html\n",
    "<style>\n",
    "@font-face {\n",
    "    font-family: Vazir;\n",
    "    src: url('Vazir.eot');\n",
    "    src: url('Vazir.eot?#iefix') format('embedded-opentype'),\n",
    "         url('Vazir.woff2') format('woff2'),\n",
    "         url('Vazir.woff') format('woff'),\n",
    "         url('Vazir.ttf') format('truetype');\n",
    "    font-weight: normal;\n",
    "    font-style: normal;\n",
    "}\n",
    ".farsi{\n",
    "    font-family:Vazir;\n",
    "    direction: rtl;\n",
    "    #font-size:26px;\n",
    "}\n",
    ".center{\n",
    "    text-align: center;\n",
    "}\n",
    "</style>\n",
    "<script>\n",
    "    //$('div.input').hide();\n",
    "</script>"
   ]
  },
  {
   "cell_type": "markdown",
   "metadata": {},
   "source": [
    "# <div class=\"farsi center\">بسم الله الرحمن الرحیم</div>"
   ]
  },
  {
   "cell_type": "code",
   "execution_count": 2,
   "metadata": {},
   "outputs": [],
   "source": [
    "import pandas as pd\n",
    "from sklearn import datasets, svm, metrics\n",
    "\n",
    "from PIL import Image\n",
    "import numpy as np\n",
    "from matplotlib.pyplot import imshow"
   ]
  },
  {
   "cell_type": "code",
   "execution_count": 3,
   "metadata": {},
   "outputs": [],
   "source": [
    "MNIST_LENGTH = 28\n",
    "train_label = pd.read_csv('MNIST/train_label.csv',header=None)\n",
    "train_data  = pd.read_csv('MNIST/train_data.csv' ,header=None)\n",
    "test_label  = pd.read_csv('MNIST/test_label.csv' ,header=None)\n",
    "test_data   = pd.read_csv('MNIST/test_data.csv'  ,header=None)\n",
    "np_test_label = np.array(test_label[0].values)"
   ]
  },
  {
   "cell_type": "code",
   "execution_count": 4,
   "metadata": {},
   "outputs": [],
   "source": [
    "def vector_to_arr(img_vec):\n",
    "    return np.array([img_vec[i*MNIST_LENGTH:(i+1)*MNIST_LENGTH]for i in range(MNIST_LENGTH)]).T.tolist()\n",
    "def print_img(img_arr):\n",
    "    img = Image.new( 'RGB', (MNIST_LENGTH,MNIST_LENGTH))\n",
    "    pixels = img.load()\n",
    "    for i in range(img.size[0]):\n",
    "        for j in range(img.size[1]):\n",
    "            pixels[i,j] = (img_arr[i][j],img_arr[i][j],img_arr[i][j])\n",
    "    imshow(np.asarray(img))\n",
    "def calc_grade(perdicts):\n",
    "    np_perdicts = np.array(perdicts)\n",
    "    return np.count_nonzero(np_perdicts==np_test_label)/len(np_test_label)"
   ]
  },
  {
   "cell_type": "code",
   "execution_count": 5,
   "metadata": {},
   "outputs": [
    {
     "name": "stdout",
     "output_type": "stream",
     "text": [
      "4\n"
     ]
    },
    {
     "data": {
      "image/png": "[encoded data removed]",
      "text/plain": [
       "<Figure size 432x288 with 1 Axes>"
      ]
     },
     "metadata": {
      "needs_background": "light"
     },
     "output_type": "display_data"
    }
   ],
   "source": [
    "i = 934\n",
    "print_img(vector_to_arr(train_data.values[i]))\n",
    "print(train_label.values[i][0])"
   ]
  },
  {
   "cell_type": "code",
   "execution_count": 6,
   "metadata": {},
   "outputs": [
    {
     "name": "stdout",
     "output_type": "stream",
     "text": [
      "0.87\n"
     ]
    }
   ],
   "source": [
    "from sklearn.neighbors import KNeighborsClassifier\n",
    "knc = KNeighborsClassifier(26)\n",
    "knc.fit(train_data.values,train_label[0].values)\n",
    "perdicted = knc.predict(test_data.values)\n",
    "print(calc_grade(perdicted))"
   ]
  },
  {
   "cell_type": "code",
   "execution_count": null,
   "metadata": {},
   "outputs": [],
   "source": []
  },
  {
   "cell_type": "code",
   "execution_count": null,
   "metadata": {},
   "outputs": [],
   "source": []
  }
 ],
 "metadata": {
  "celltoolbar": "Tags",
  "kernelspec": {
   "display_name": "Python 3",
   "language": "python",
   "name": "python3"
  },
  "language_info": {
   "codemirror_mode": {
    "name": "ipython",
    "version": 3
   },
   "file_extension": ".py",
   "mimetype": "text/x-python",
   "name": "python",
   "nbconvert_exporter": "python",
   "pygments_lexer": "ipython3",
   "version": "3.7.1"
  }
 },
 "nbformat": 4,
 "nbformat_minor": 2
}
