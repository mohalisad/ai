{
 "cells": [
  {
   "cell_type": "code",
   "execution_count": 1,
   "metadata": {},
   "outputs": [],
   "source": [
    "import pandas as pd\n",
    "from sklearn import datasets, svm, metrics\n",
    "\n",
    "from PIL import Image\n",
    "import numpy as np\n",
    "from matplotlib.pyplot import imshow"
   ]
  },
  {
   "cell_type": "code",
   "execution_count": 2,
   "metadata": {},
   "outputs": [],
   "source": [
    "MNIST_LENGTH = 28\n",
    "train_label = pd.read_csv('MNIST/train_label.csv',header=None)\n",
    "train_data  = pd.read_csv('MNIST/train_data.csv' ,header=None)\n",
    "test_label  = pd.read_csv('MNIST/test_label.csv' ,header=None)\n",
    "test_data   = pd.read_csv('MNIST/test_data.csv'  ,header=None)"
   ]
  },
  {
   "cell_type": "code",
   "execution_count": 40,
   "metadata": {},
   "outputs": [],
   "source": [
    "def vector_to_arr(img_vec):\n",
    "    return np.array([img_vec[i*MNIST_LENGTH:(i+1)*MNIST_LENGTH]for i in range(MNIST_LENGTH)]).T.tolist()\n",
    "def print_img(img_arr):\n",
    "    img = Image.new( 'RGB', (MNIST_LENGTH,MNIST_LENGTH), \"white\")\n",
    "    pixels = img.load()\n",
    "    for i in range(img.size[0]):\n",
    "        for j in range(img.size[1]):\n",
    "            pixels[i,j] = (img_arr[i][j],img_arr[i][j],img_arr[i][j])\n",
    "    imshow(np.asarray(img))"
   ]
  },
  {
   "cell_type": "code",
   "execution_count": 48,
   "metadata": {},
   "outputs": [
    {
     "name": "stdout",
     "output_type": "stream",
     "text": [
      "3\n"
     ]
    },
    {
     "data": {
      "image/png": "[encoded data removed]",
      "text/plain": [
       "<Figure size 432x288 with 1 Axes>"
      ]
     },
     "metadata": {
      "needs_background": "light"
     },
     "output_type": "display_data"
    }
   ],
   "source": [
    "i = 790\n",
    "print_img(vector_to_arr(train_data.values[i]))\n",
    "print(train_label.values[i][0])"
   ]
  },
  {
   "cell_type": "code",
   "execution_count": null,
   "metadata": {},
   "outputs": [],
   "source": []
  }
 ],
 "metadata": {
  "kernelspec": {
   "display_name": "Python 3",
   "language": "python",
   "name": "python3"
  },
  "language_info": {
   "codemirror_mode": {
    "name": "ipython",
    "version": 3
   },
   "file_extension": ".py",
   "mimetype": "text/x-python",
   "name": "python",
   "nbconvert_exporter": "python",
   "pygments_lexer": "ipython3",
   "version": "3.7.1"
  }
 },
 "nbformat": 4,
 "nbformat_minor": 2
}
