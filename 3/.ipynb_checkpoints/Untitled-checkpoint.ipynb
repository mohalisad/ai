{
 "cells": [
  {
   "cell_type": "code",
   "execution_count": 1,
   "metadata": {},
   "outputs": [],
   "source": [
    "import pandas as pd\n",
    "import matplotlib.pyplot as plt\n",
    "import numpy as np\n",
    "data = pd.read_csv('train_test.csv')"
   ]
  },
  {
   "cell_type": "code",
   "execution_count": 2,
   "metadata": {},
   "outputs": [],
   "source": [
    "import nltk\n",
    "MY_STOP_WORDS = ['u','dont']\n",
    "def normalize(inp):\n",
    "    wnl = nltk.stem.wordnet.WordNetLemmatizer()\n",
    "    stop_words = set(nltk.corpus.stopwords.words('english') + MY_STOP_WORDS)\n",
    "    tokenizer = nltk.tokenize.RegexpTokenizer('\\w+')\n",
    "\n",
    "    tokens = tokenizer.tokenize(inp)\n",
    "    tokens = [token.lower() for token in tokens]\n",
    "\n",
    "    filtered = []\n",
    "    for token,pos in nltk.pos_tag(tokens):\n",
    "        if token not in stop_words:\n",
    "            pos = pos[0].lower()\n",
    "            if pos in ['a','n','v']:\n",
    "                filtered.append(wnl.lemmatize(token,pos))\n",
    "            else:\n",
    "                filtered.append(wnl.lemmatize(token))\n",
    "    return filtered\n",
    "class word_counter:\n",
    "    def __init__(self):\n",
    "        self.dic = {}\n",
    "    def add_spam(self,msg):\n",
    "        for word in msg:\n",
    "            if word in self.dic:\n",
    "                self.dic[word][1] += 1\n",
    "            else:\n",
    "                self.dic[word] = [0,1]\n",
    "    def add_ham(self,msg):\n",
    "        for word in msg:\n",
    "            if word in self.dic:\n",
    "                self.dic[word][0] += 1\n",
    "            else:\n",
    "                self.dic[word] = [1,0]\n",
    "    def divide_spam(self,length):\n",
    "        self.sl = length\n",
    "    def divide_ham(self,length):\n",
    "        self.hl = length\n",
    "    def get_probability(self,word):\n",
    "        if word in self.dic:\n",
    "            return self.dic[word]\n",
    "        return 1,1\n",
    "    def get_ham_probability(self,msg):\n",
    "        ham = 1\n",
    "        spam = 1\n",
    "        for word in msg:\n",
    "            res = self.get_probability(word)\n",
    "            if res[0]+res[1] > 8:\n",
    "                ham *= res[0]/self.hl\n",
    "                spam *= res[1]/self.sl\n",
    "        if ham == spam:\n",
    "            return 0.5\n",
    "        return ham/(ham+spam)"
   ]
  },
  {
   "cell_type": "code",
   "execution_count": 3,
   "metadata": {},
   "outputs": [],
   "source": [
    "_hams  = data[data.type ==  'ham'].reset_index(drop=True)\n",
    "_spams = data[data.type ==  'spam'].reset_index(drop=True)\n",
    "hams  = _hams.apply(lambda x: normalize(x['text']), axis=1)\n",
    "spams = _spams.apply(lambda x: normalize(x['text']), axis=1)"
   ]
  },
  {
   "cell_type": "code",
   "execution_count": 4,
   "metadata": {},
   "outputs": [],
   "source": [
    "hams_train  = hams.loc[:int(len(hams.index)*7/8)]\n",
    "spams_train = spams.loc[:int(len(spams.index)*7/8)]"
   ]
  },
  {
   "cell_type": "code",
   "execution_count": 5,
   "metadata": {},
   "outputs": [],
   "source": [
    "hams_test  = hams.loc[int(len(hams.index)*7/8):]\n",
    "spams_test = spams.loc[int(len(spams.index)*7/8):]"
   ]
  },
  {
   "cell_type": "code",
   "execution_count": 6,
   "metadata": {
    "scrolled": true
   },
   "outputs": [],
   "source": [
    "list_counter = word_counter()\n",
    "hams_train.apply(lambda x: list_counter.add_ham(x))\n",
    "spams_train.apply(lambda x: list_counter.add_spam(x))\n",
    "\n",
    "list_counter.divide_ham(len(hams_train.index))\n",
    "list_counter.divide_spam(len(spams_train.index))"
   ]
  },
  {
   "cell_type": "code",
   "execution_count": 7,
   "metadata": {},
   "outputs": [
    {
     "name": "stdout",
     "output_type": "stream",
     "text": [
      "ham: 508 spam: 42\n"
     ]
    }
   ],
   "source": [
    "class check_counter:\n",
    "    def __init__(self):\n",
    "        self.h = 0\n",
    "        self.s = 0\n",
    "    def add_state(self,x):\n",
    "        if(x>=0.5):\n",
    "            self.h+=1\n",
    "        else:\n",
    "            self.s+=1\n",
    "    def print_all(self):\n",
    "        print (\"ham: {} spam: {}\".format(self.h,self.s))\n",
    "hams_counter = check_counter()\n",
    "hams_test.apply(lambda x:hams_counter.add_state(list_counter.get_ham_probability(x)))\n",
    "hams_counter.print_all()"
   ]
  },
  {
   "cell_type": "code",
   "execution_count": 8,
   "metadata": {
    "scrolled": true
   },
   "outputs": [
    {
     "name": "stdout",
     "output_type": "stream",
     "text": [
      "ham: 9 spam: 76\n"
     ]
    }
   ],
   "source": [
    "spams_counter = check_counter()\n",
    "spams_test.apply(lambda x:spams_counter.add_state(list_counter.get_ham_probability(x)))\n",
    "spams_counter.print_all()"
   ]
  },
  {
   "cell_type": "code",
   "execution_count": 9,
   "metadata": {},
   "outputs": [],
   "source": [
    "hams_train_length  = hams_train.apply(lambda x: len(x))\n",
    "spams_train_length = spams_train.apply(lambda x: len(x))"
   ]
  },
  {
   "cell_type": "code",
   "execution_count": 10,
   "metadata": {},
   "outputs": [],
   "source": [
    "hams_stat  = hams_train_length.mean(),hams_train_length.std()\n",
    "spams_stat = spams_train_length.mean(),spams_train_length.std()"
   ]
  },
  {
   "cell_type": "code",
   "execution_count": 11,
   "metadata": {},
   "outputs": [],
   "source": [
    "def cacl_traz(inp,stat):\n",
    "    return abs(inp - stat[0])/stat[1]\n",
    "def calc_ham_length_probability(length):\n",
    "    ht = cacl_traz(length,hams_stat)\n",
    "    st = cacl_traz(length,spams_stat)\n",
    "    return (st)/(ht+st)"
   ]
  },
  {
   "cell_type": "code",
   "execution_count": 12,
   "metadata": {},
   "outputs": [
    {
     "name": "stdout",
     "output_type": "stream",
     "text": [
      "ham: 527 spam: 23\n"
     ]
    }
   ],
   "source": [
    "def calc_probe(x):\n",
    "    return (list_counter.get_ham_probability(x)+calc_ham_length_probability(len(x)))/2\n",
    "hams_counter = check_counter()\n",
    "hams_test.apply(lambda x:hams_counter.add_state(calc_probe(x)))\n",
    "hams_counter.print_all()"
   ]
  },
  {
   "cell_type": "code",
   "execution_count": 13,
   "metadata": {},
   "outputs": [
    {
     "name": "stdout",
     "output_type": "stream",
     "text": [
      "ham: 5 spam: 80\n"
     ]
    }
   ],
   "source": [
    "spams_counter = check_counter()\n",
    "spams_test.apply(lambda x:spams_counter.add_state(calc_probe(x)))\n",
    "spams_counter.print_all()"
   ]
  },
  {
   "cell_type": "code",
   "execution_count": 14,
   "metadata": {},
   "outputs": [
    {
     "name": "stdout",
     "output_type": "stream",
     "text": [
      "Recall = 0.9411764705882353\n",
      "Precision = 0.7766990291262136\n",
      "Accuracy = 0.9559055118110236\n"
     ]
    }
   ],
   "source": [
    "print(\"Recall = \" + str(spams_counter.s/(spams_counter.s+spams_counter.h)))\n",
    "print(\"Precision = \" + str(spams_counter.s/(spams_counter.s+hams_counter.s)))\n",
    "print(\"Accuracy = \" + str((spams_counter.s + hams_counter.h)/((hams_counter.s + hams_counter.h)+(spams_counter.s + spams_counter.h))))"
   ]
  },
  {
   "cell_type": "code",
   "execution_count": 24,
   "metadata": {},
   "outputs": [],
   "source": [
    "def ham_or_spam(text):\n",
    "    x = calc_probe(normalize(text))\n",
    "    if(x>=0.5):\n",
    "        return \"ham\"\n",
    "    else:\n",
    "        return \"spam\"\n",
    "test_data = pd.read_csv('evaluate.csv')\n",
    "test_data['text'] = test_data['text'].apply(lambda x:ham_or_spam(x))\n",
    "test_data.to_csv('out.csv')"
   ]
  }
 ],
 "metadata": {
  "kernelspec": {
   "display_name": "Python 3",
   "language": "python",
   "name": "python3"
  },
  "language_info": {
   "codemirror_mode": {
    "name": "ipython",
    "version": 3
   },
   "file_extension": ".py",
   "mimetype": "text/x-python",
   "name": "python",
   "nbconvert_exporter": "python",
   "pygments_lexer": "ipython3",
   "version": "3.7.1"
  }
 },
 "nbformat": 4,
 "nbformat_minor": 2
}
