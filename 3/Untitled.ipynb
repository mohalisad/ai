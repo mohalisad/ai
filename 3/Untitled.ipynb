{
 "cells": [
  {
   "cell_type": "code",
   "execution_count": 1,
   "metadata": {},
   "outputs": [],
   "source": [
    "import pandas as pd\n",
    "import matplotlib.pyplot as plt\n",
    "import numpy as np\n",
    "data = pd.read_csv('train_test.csv')"
   ]
  },
  {
   "cell_type": "code",
   "execution_count": 2,
   "metadata": {},
   "outputs": [],
   "source": [
    "import nltk\n",
    "MY_STOP_WORDS = ['u','dont']\n",
    "def normalize(inp):\n",
    "    wnl = nltk.stem.wordnet.WordNetLemmatizer()\n",
    "    stop_words = set(nltk.corpus.stopwords.words('english') + MY_STOP_WORDS)\n",
    "    tokenizer = nltk.tokenize.RegexpTokenizer('\\w+')\n",
    "\n",
    "    tokens = tokenizer.tokenize(inp)\n",
    "    tokens = [token.lower() for token in tokens]\n",
    "\n",
    "    filtered = []\n",
    "    for token,pos in nltk.pos_tag(tokens):\n",
    "        if token not in stop_words:\n",
    "            pos = pos[0].lower()\n",
    "            if pos in ['a','n','v']:\n",
    "                filtered.append(wnl.lemmatize(token,pos))\n",
    "            else:\n",
    "                filtered.append(wnl.lemmatize(token))\n",
    "    return filtered\n",
    "class word_counter:\n",
    "    def __init__(self):\n",
    "        self.dic = {}\n",
    "    def add_spam(self,msg):\n",
    "        for word in msg:\n",
    "            if word in self.dic:\n",
    "                self.dic[word][1] += 1\n",
    "            else:\n",
    "                self.dic[word] = [0,1]\n",
    "    def add_ham(self,msg):\n",
    "        for word in msg:\n",
    "            if word in self.dic:\n",
    "                self.dic[word][0] += 1\n",
    "            else:\n",
    "                self.dic[word] = [1,0]\n",
    "    def divide_spam(self,length):\n",
    "        for word,count in self.dic.items():\n",
    "            count[1] /= length\n",
    "    def divide_ham(self,length):\n",
    "        for word,count in self.dic.items():\n",
    "            count[0] /= length\n",
    "    def get_probability(self,word):\n",
    "        if word in self.dic:\n",
    "            return self.dic[word]\n",
    "        return 0,0\n",
    "    def get_avg_probability(self,msg):\n",
    "        ham = 0\n",
    "        spam = 0\n",
    "        for word in msg:\n",
    "            res = self.get_probability(word)\n",
    "            ham += res[0]\n",
    "            spam += res[1]\n",
    "        return ham,spam"
   ]
  },
  {
   "cell_type": "code",
   "execution_count": 3,
   "metadata": {},
   "outputs": [],
   "source": [
    "_hams  = data[data.type ==  'ham'].reset_index(drop=True)\n",
    "_spams = data[data.type ==  'spam'].reset_index(drop=True)\n",
    "hams_list  = _hams.apply(lambda x: normalize(x['text']), axis=1)\n",
    "spams_list = _spams.apply(lambda x: normalize(x['text']), axis=1)"
   ]
  },
  {
   "cell_type": "code",
   "execution_count": 4,
   "metadata": {},
   "outputs": [],
   "source": [
    "hams_list_train  = hams_list.loc[:int(len(hams_list.index)*4/5)]\n",
    "spams_list_train = spams_list.loc[:int(len(spams_list.index)*4/5)]"
   ]
  },
  {
   "cell_type": "code",
   "execution_count": 5,
   "metadata": {},
   "outputs": [],
   "source": [
    "hams_list_test  = hams_list.loc[int(len(hams_list.index)*4/5):]\n",
    "spams_list_test = spams_list.loc[int(len(spams_list.index)*4/5):]"
   ]
  },
  {
   "cell_type": "code",
   "execution_count": 6,
   "metadata": {
    "scrolled": true
   },
   "outputs": [],
   "source": [
    "list_counter = word_counter()\n",
    "hams_list_train.apply(lambda x: list_counter.add_ham(x))\n",
    "spams_list_train.apply(lambda x: list_counter.add_spam(x))\n",
    "\n",
    "list_counter.divide_ham(len(hams_list_train.index))\n",
    "list_counter.divide_spam(len(spams_list_train.index))"
   ]
  },
  {
   "cell_type": "code",
   "execution_count": 7,
   "metadata": {},
   "outputs": [
    {
     "name": "stdout",
     "output_type": "stream",
     "text": [
      "ham: 563 spam: 317\n"
     ]
    }
   ],
   "source": [
    "class check_counter:\n",
    "    def __init__(self):\n",
    "        self.h = 0\n",
    "        self.s = 0\n",
    "    def add_state(self,x):\n",
    "        if(x[0]>=x[1]):\n",
    "            self.h+=1\n",
    "        else:\n",
    "            self.s+=1\n",
    "    def print_all(self):\n",
    "        print (\"ham: {} spam: {}\".format(self.h,self.s))\n",
    "hams_list_counter = check_counter()\n",
    "hams_list_test.apply(lambda x:hams_list_counter.add_state(list_counter.get_avg_probability(x)))\n",
    "hams_list_counter.print_all()"
   ]
  },
  {
   "cell_type": "code",
   "execution_count": 8,
   "metadata": {
    "scrolled": true
   },
   "outputs": [
    {
     "name": "stdout",
     "output_type": "stream",
     "text": [
      "ham: 1 spam: 135\n"
     ]
    }
   ],
   "source": [
    "spams_list_counter = check_counter()\n",
    "spams_list_test.apply(lambda x:spams_list_counter.add_state(list_counter.get_avg_probability(x)))\n",
    "spams_list_counter.print_all()"
   ]
  }
 ],
 "metadata": {
  "kernelspec": {
   "display_name": "Python 3",
   "language": "python",
   "name": "python3"
  },
  "language_info": {
   "codemirror_mode": {
    "name": "ipython",
    "version": 3
   },
   "file_extension": ".py",
   "mimetype": "text/x-python",
   "name": "python",
   "nbconvert_exporter": "python",
   "pygments_lexer": "ipython3",
   "version": "3.7.1"
  }
 },
 "nbformat": 4,
 "nbformat_minor": 2
}
