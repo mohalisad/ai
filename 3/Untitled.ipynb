{
 "cells": [
  {
   "cell_type": "code",
   "execution_count": 2,
   "metadata": {},
   "outputs": [],
   "source": [
    "import pandas as pd\n",
    "import matplotlib.pyplot as plt\n",
    "import numpy as np\n",
    "data = pd.read_csv('train_test.csv')"
   ]
  },
  {
   "cell_type": "code",
   "execution_count": 3,
   "metadata": {},
   "outputs": [],
   "source": [
    "import nltk\n",
    "import math\n",
    "#nltk.download('stopwords')\n",
    "#nltk.download('averaged_perceptron_tagger')\n",
    "#nltk.download('wordnet')\n",
    "MY_STOP_WORDS = ['u','dont']\n",
    "def normalize(inp):\n",
    "    wnl = nltk.stem.wordnet.WordNetLemmatizer()\n",
    "    stop_words = set(nltk.corpus.stopwords.words('english') + MY_STOP_WORDS)\n",
    "    tokenizer = nltk.tokenize.RegexpTokenizer('\\w+')\n",
    "\n",
    "    tokens = tokenizer.tokenize(inp)\n",
    "    tokens = [token.lower() for token in tokens]\n",
    "\n",
    "    filtered = []\n",
    "    for token,pos in nltk.pos_tag(tokens):\n",
    "        if token not in stop_words:\n",
    "            pos = pos[0].lower()\n",
    "            if pos in ['a','n','v']:\n",
    "                filtered.append(wnl.lemmatize(token,pos))\n",
    "            else:\n",
    "                filtered.append(wnl.lemmatize(token))\n",
    "    return filtered\n",
    "class word_counter:\n",
    "    def __init__(self):\n",
    "        self.dic = {}\n",
    "    def add_spam(self,msg):\n",
    "        for word in msg:\n",
    "            if word in self.dic:\n",
    "                self.dic[word][1] += 1\n",
    "            else:\n",
    "                self.dic[word] = [0,1]\n",
    "    def add_ham(self,msg):\n",
    "        for word in msg:\n",
    "            if word in self.dic:\n",
    "                self.dic[word][0] += 1\n",
    "            else:\n",
    "                self.dic[word] = [1,0]\n",
    "    def divide_spam(self,length):\n",
    "        self.sl = length\n",
    "    def divide_ham(self,length):\n",
    "        self.hl = length\n",
    "    def get_probability(self,word):\n",
    "        if word in self.dic:\n",
    "            return self.dic[word]\n",
    "        return 1,1\n",
    "    def get_ham_probability(self,msg):\n",
    "        ham = 1\n",
    "        spam = 1\n",
    "        for word in msg:\n",
    "            res = self.get_probability(word)\n",
    "            if res[0]+res[1] > ((self.sl+self.hl)/1000):\n",
    "                if res[0] == 0:\n",
    "                    res[0] = 0.01\n",
    "                if res[1] == 0:\n",
    "                    res[1] = 0.01\n",
    "                ham += math.log(res[0],10)-math.log(self.hl,10)\n",
    "                spam += math.log(res[1],10)-math.log(self.sl,10)\n",
    "        return 10**ham/(10**ham+10**spam)\n",
    "    def get_diffrence_array(self):\n",
    "        ret = []\n",
    "        for word in self.dic:\n",
    "            ret.append(self.dic[word][0] - self.dic[word][1])\n",
    "        return ret"
   ]
  },
  {
   "cell_type": "code",
   "execution_count": 4,
   "metadata": {},
   "outputs": [],
   "source": [
    "_hams  = data[data.type ==  'ham'].reset_index(drop=True)\n",
    "_spams = data[data.type ==  'spam'].reset_index(drop=True)\n",
    "hams  = _hams.apply(lambda x: normalize(x['text']), axis=1)\n",
    "spams = _spams.apply(lambda x: normalize(x['text']), axis=1)"
   ]
  },
  {
   "cell_type": "code",
   "execution_count": 5,
   "metadata": {},
   "outputs": [],
   "source": [
    "train_divide = 5/6\n",
    "hams_train  = hams.loc[:int(len(hams.index)*train_divide)]\n",
    "spams_train = spams.loc[:int(len(spams.index)*train_divide)]"
   ]
  },
  {
   "cell_type": "code",
   "execution_count": 6,
   "metadata": {},
   "outputs": [],
   "source": [
    "hams_test  = hams.loc[int(len(hams.index)*train_divide):]\n",
    "spams_test = spams.loc[int(len(spams.index)*train_divide):]"
   ]
  },
  {
   "cell_type": "code",
   "execution_count": 7,
   "metadata": {
    "scrolled": true
   },
   "outputs": [],
   "source": [
    "list_counter = word_counter()\n",
    "hams_train.apply(lambda x: list_counter.add_ham(x))\n",
    "spams_train.apply(lambda x: list_counter.add_spam(x))\n",
    "\n",
    "list_counter.divide_ham(len(hams_train.index))\n",
    "list_counter.divide_spam(len(spams_train.index))"
   ]
  },
  {
   "cell_type": "code",
   "execution_count": 22,
   "metadata": {},
   "outputs": [
    {
     "data": {
      "text/plain": [
       "<matplotlib.axes._subplots.AxesSubplot at 0x1a27c29d30>"
      ]
     },
     "execution_count": 22,
     "metadata": {},
     "output_type": "execute_result"
    },
    {
     "data": {
      "image/png": "[encoded data removed]",
      "text/plain": [
       "<Figure size 432x288 with 1 Axes>"
      ]
     },
     "metadata": {
      "needs_background": "light"
     },
     "output_type": "display_data"
    }
   ],
   "source": [
    "a = pd.Series(list_counter.get_diffrence_array())\n",
    "a = a[abs(a)>50].abs()\n",
    "a.hist(bins=10)"
   ]
  },
  {
   "cell_type": "code",
   "execution_count": 7,
   "metadata": {},
   "outputs": [
    {
     "name": "stdout",
     "output_type": "stream",
     "text": [
      "ham: 674 spam: 59\n"
     ]
    }
   ],
   "source": [
    "def get_ham_or_spam(probe):\n",
    "    if(probe >= 0.5):\n",
    "        return 'ham'\n",
    "    else:\n",
    "        return 'spam'\n",
    "class check_counter:\n",
    "    def __init__(self):\n",
    "        self.h = 0\n",
    "        self.s = 0\n",
    "    def add_state(self,x):\n",
    "        if(x == 'ham'):\n",
    "            self.h+=1\n",
    "        else:\n",
    "            self.s+=1\n",
    "    def print_all(self):\n",
    "        print (\"ham: {} spam: {}\".format(self.h,self.s))\n",
    "hams_counter = check_counter()\n",
    "hams_test.apply(lambda x:hams_counter.add_state(get_ham_or_spam(list_counter.get_ham_probability(x))))\n",
    "hams_counter.print_all()"
   ]
  },
  {
   "cell_type": "code",
   "execution_count": 8,
   "metadata": {
    "scrolled": false
   },
   "outputs": [
    {
     "name": "stdout",
     "output_type": "stream",
     "text": [
      "ham: 0 spam: 113\n"
     ]
    }
   ],
   "source": [
    "spams_counter = check_counter()\n",
    "spams_test.apply(lambda x:spams_counter.add_state(list_counter.get_ham_probability(x)))\n",
    "spams_counter.print_all()"
   ]
  },
  {
   "cell_type": "code",
   "execution_count": 9,
   "metadata": {},
   "outputs": [
    {
     "name": "stdout",
     "output_type": "stream",
     "text": [
      "Recall = 1.0\n",
      "Precision = 0.6569767441860465\n",
      "Accuracy = 0.9302600472813238\n"
     ]
    }
   ],
   "source": [
    "print(\"Recall = \" + str(spams_counter.s/(spams_counter.s+spams_counter.h)))\n",
    "print(\"Precision = \" + str(spams_counter.s/(spams_counter.s+hams_counter.s)))\n",
    "print(\"Accuracy = \" + str((spams_counter.s + hams_counter.h)/((hams_counter.s + hams_counter.h)+(spams_counter.s + spams_counter.h))))"
   ]
  },
  {
   "cell_type": "code",
   "execution_count": 10,
   "metadata": {},
   "outputs": [],
   "source": [
    "hams_train_length  = hams_train.apply(lambda x: len(x))\n",
    "spams_train_length = spams_train.apply(lambda x: len(x))"
   ]
  },
  {
   "cell_type": "code",
   "execution_count": 11,
   "metadata": {},
   "outputs": [
    {
     "data": {
      "image/png": "[encoded data removed]",
      "text/plain": [
       "<Figure size 432x288 with 2 Axes>"
      ]
     },
     "metadata": {
      "needs_background": "light"
     },
     "output_type": "display_data"
    }
   ],
   "source": [
    "import matplotlib.ticker as ticker\n",
    "fig=plt.figure()\n",
    "ax1 = plt.subplot(211)\n",
    "ax2 = plt.subplot(212)\n",
    "hams_train_length.hist(bins = 30,ax = ax1,rwidth = 80,range = (0,40))\n",
    "ticks_y = ticker.FuncFormatter(lambda x, pos: '{0:g}'.format(x/len(hams_train_length.index)))\n",
    "ax1.yaxis.set_major_formatter(ticks_y)\n",
    "spams_train_length.hist(bins = 30,ax =ax2,color = 'orange',rwidth = 80,range = (0,40))\n",
    "ticks_y2 = ticker.FuncFormatter(lambda x, pos: '{0:g}'.format(x/len(spams_train_length.index)))\n",
    "ax2.yaxis.set_major_formatter(ticks_y2)\n",
    "\n",
    "ax1.get_shared_x_axes().join(ax1, ax2)\n",
    "ax1.set_xticklabels([])\n",
    "\n",
    "plt.show()"
   ]
  },
  {
   "cell_type": "code",
   "execution_count": 12,
   "metadata": {},
   "outputs": [],
   "source": [
    "hams_stat  = hams_train_length.mean(),hams_train_length.std()\n",
    "spams_stat = spams_train_length.mean(),spams_train_length.std()"
   ]
  },
  {
   "cell_type": "code",
   "execution_count": 13,
   "metadata": {},
   "outputs": [],
   "source": [
    "def cacl_traz(inp,stat):\n",
    "    return abs(inp - stat[0])/stat[1]\n",
    "def calc_ham_length_probability(length):\n",
    "    ht = cacl_traz(length,hams_stat)\n",
    "    st = cacl_traz(length,spams_stat)\n",
    "    return (st)/(ht+st)"
   ]
  },
  {
   "cell_type": "code",
   "execution_count": 14,
   "metadata": {},
   "outputs": [
    {
     "name": "stdout",
     "output_type": "stream",
     "text": [
      "ham: 727 spam: 6\n"
     ]
    }
   ],
   "source": [
    "def calc_probe(x):\n",
    "    length_ham_probability = math.log(calc_ham_length_probability(len(x)),10)/20\n",
    "    lc_ham_probability     = math.log(list_counter.get_ham_probability(x),10)\n",
    "    ham_probe = 10**(length_ham_probability+lc_ham_probability)\n",
    "    spam_probe = (1-10**length_ham_probability)*(1-10**lc_ham_probability)\n",
    "    if ham_probe >= spam_probe:\n",
    "        return 'ham'\n",
    "    else:\n",
    "        return 'spam'\n",
    "hams_counter = check_counter()\n",
    "hams_test.apply(lambda x:hams_counter.add_state(calc_probe(x)))\n",
    "hams_counter.print_all()"
   ]
  },
  {
   "cell_type": "code",
   "execution_count": 15,
   "metadata": {},
   "outputs": [
    {
     "name": "stdout",
     "output_type": "stream",
     "text": [
      "ham: 5 spam: 108\n"
     ]
    }
   ],
   "source": [
    "spams_counter = check_counter()\n",
    "spams_test.apply(lambda x:spams_counter.add_state(calc_probe(x)))\n",
    "spams_counter.print_all()"
   ]
  },
  {
   "cell_type": "code",
   "execution_count": 16,
   "metadata": {},
   "outputs": [
    {
     "name": "stdout",
     "output_type": "stream",
     "text": [
      "Recall = 0.9557522123893806\n",
      "Precision = 0.9473684210526315\n",
      "Accuracy = 0.9869976359338062\n"
     ]
    }
   ],
   "source": [
    "print(\"Recall = \" + str(spams_counter.s/(spams_counter.s+spams_counter.h)))\n",
    "print(\"Precision = \" + str(spams_counter.s/(spams_counter.s+hams_counter.s)))\n",
    "print(\"Accuracy = \" + str((spams_counter.s + hams_counter.h)/((hams_counter.s + hams_counter.h)+(spams_counter.s + spams_counter.h))))"
   ]
  },
  {
   "cell_type": "code",
   "execution_count": 17,
   "metadata": {},
   "outputs": [],
   "source": [
    "def ham_or_spam(text):\n",
    "    return calc_probe(normalize(text))\n",
    "test_data = pd.read_csv('evaluate.csv')\n",
    "test_data['text'] = test_data['text'].apply(lambda x:ham_or_spam(x))\n",
    "test_data.columns = ['id','type']\n",
    "test_data.to_csv('out.csv',index=False)"
   ]
  },
  {
   "cell_type": "code",
   "execution_count": null,
   "metadata": {},
   "outputs": [],
   "source": []
  }
 ],
 "metadata": {
  "kernelspec": {
   "display_name": "Python 3",
   "language": "python",
   "name": "python3"
  },
  "language_info": {
   "codemirror_mode": {
    "name": "ipython",
    "version": 3
   },
   "file_extension": ".py",
   "mimetype": "text/x-python",
   "name": "python",
   "nbconvert_exporter": "python",
   "pygments_lexer": "ipython3",
   "version": "3.7.1"
  }
 },
 "nbformat": 4,
 "nbformat_minor": 2
}
