{
 "cells": [
  {
   "cell_type": "markdown",
   "metadata": {},
   "source": [
    "# Code Report"
   ]
  },
  {
   "cell_type": "markdown",
   "metadata": {},
   "source": [
    "## Primary imports and functions"
   ]
  },
  {
   "cell_type": "markdown",
   "metadata": {},
   "source": [
    "### Imports and print_grid, check_exist function and test_cases name"
   ]
  },
  {
   "cell_type": "code",
   "execution_count": 1,
   "metadata": {},
   "outputs": [],
   "source": [
    "import pandas as pd\n",
    "import matplotlib.pyplot as plt\n",
    "import numpy as np\n",
    "import time\n",
    "from   IPython.core.display import display, HTML\n",
    "def print_grid(data):\n",
    "    cells = np.zeros((8,8))\n",
    "    for item in data:\n",
    "        cells[item[0]-1][item[1]-1] = 1\n",
    "    for row in cells:\n",
    "        print(\" \".join([\"X\" if item == 1 else \"O\" for item in row]))\n",
    "def check_exist(data,x,y):\n",
    "    for i in range(8):\n",
    "        if data[i][0] == x and data[i][1] == y:\n",
    "            return False\n",
    "    return True\n",
    "def print_as_header(input):\n",
    "    display(HTML('<h1>'+input+'</h1>'))"
   ]
  },
  {
   "cell_type": "markdown",
   "metadata": {},
   "source": [
    "### Check The State Of Grid"
   ]
  },
  {
   "cell_type": "code",
   "execution_count": 2,
   "metadata": {},
   "outputs": [],
   "source": [
    "def check_mutual_cells(data,column_number):\n",
    "    counter = 0\n",
    "    que     = []\n",
    "    for item in data:\n",
    "        if item[column_number] in que:\n",
    "            counter += 1\n",
    "        else:\n",
    "            que.append(item[column_number])\n",
    "    return counter\n",
    "def count_row_threats(data):\n",
    "    return check_mutual_cells(data,0)\n",
    "def count_column_threats(data):\n",
    "    return check_mutual_cells(data,1)\n",
    "def count_diagonal_threats(data):\n",
    "    counter = 0\n",
    "    cells = np.zeros((8,8))\n",
    "    for item in data:\n",
    "        x = item[0]-1\n",
    "        y = item[1]-1\n",
    "        if cells[x][y] == 1:\n",
    "            counter += 1\n",
    "        for i in range(-8,8):\n",
    "            if 0<=x+i<=7:\n",
    "                if 0<=y+i<=7:\n",
    "                    cells[x+i][y+i] = 1\n",
    "                if 0<=y-i<=7:\n",
    "                    cells[x+i][y-i] = 1\n",
    "    return counter\n",
    "def count_all(data):\n",
    "    return count_row_threats(data) + count_column_threats(data) + count_diagonal_threats(data)\n",
    "def check_condtions(data):\n",
    "    if count_row_threats(data)==0:\n",
    "        if count_column_threats(data)==0:\n",
    "            if count_diagonal_threats(data)==0:\n",
    "                return True\n",
    "    return False"
   ]
  },
  {
   "cell_type": "markdown",
   "metadata": {},
   "source": [
    "### move Function That Is Used In IDFS, BFS, A*"
   ]
  },
  {
   "cell_type": "code",
   "execution_count": 3,
   "metadata": {},
   "outputs": [],
   "source": [
    "def sub_move(data,index,direction,diff_x,diff_y,mulitply):\n",
    "    if direction == 0 or direction == 8:\n",
    "        diff_x = -mulitply\n",
    "    elif direction == 2:\n",
    "        diff_y = mulitply\n",
    "    elif direction == 4:\n",
    "        diff_x = mulitply\n",
    "    else:\n",
    "        diff_y = -mulitply\n",
    "    return diff_x,diff_y\n",
    "def base_move(data,index,direction,mulitply):\n",
    "    diff_x = 0\n",
    "    diff_y = 0\n",
    "    if direction%2 == 0:\n",
    "        diff_x,diff_y = sub_move(data,index,direction,diff_x,diff_y,mulitply)\n",
    "    else:\n",
    "        diff_x,diff_y = sub_move(data,index,direction-1,diff_x,diff_y,mulitply)\n",
    "        diff_x,diff_y = sub_move(data,index,direction+1,diff_x,diff_y,mulitply)\n",
    "    new_x = data[index][0] + diff_x\n",
    "    new_y = data[index][1] + diff_y\n",
    "    return new_x,new_y\n",
    "def pure_move(data,index,direction,mulitply=1):\n",
    "    new_x,new_y = base_move(data,index,direction,mulitply)\n",
    "    data[index][0] = new_x\n",
    "    data[index][1] = new_y\n",
    "def move(data,index,direction,mulitply=1):\n",
    "    new_x,new_y = base_move(data,index,direction,mulitply)\n",
    "    if 0<new_x<9 and 0<new_y<9:\n",
    "        if check_exist(data,new_x,new_y):\n",
    "            data[index][0] = new_x\n",
    "            data[index][1] = new_y\n",
    "            return True\n",
    "    return False"
   ]
  },
  {
   "cell_type": "markdown",
   "metadata": {},
   "source": [
    "### Testcase File Names"
   ]
  },
  {
   "cell_type": "code",
   "execution_count": 4,
   "metadata": {},
   "outputs": [],
   "source": [
    "test_cases1 = [\"in1.csv\",\"in2.csv\",\"in3.csv\"]\n",
    "test_cases2 = [\"test_a.csv\",\"test_b.csv\",\"test_c.csv\"]\n",
    "idfs_test = test_cases2\n",
    "bfs_test = test_cases2[0:2]\n",
    "a_star_test = test_cases1 + test_cases2"
   ]
  },
  {
   "cell_type": "markdown",
   "metadata": {
    "tags": [
     "hide"
    ]
   },
   "source": [
    "### super_move Functions Used In Improved IDFS"
   ]
  },
  {
   "cell_type": "code",
   "execution_count": 5,
   "metadata": {
    "tags": [
     "hide"
    ]
   },
   "outputs": [],
   "source": [
    "def base_super_move(data,index,direction,mulitply):\n",
    "    length = 2*abs(mulitply)\n",
    "    other = direction%length - abs(mulitply)\n",
    "    if mulitply<0:\n",
    "        other = -other\n",
    "    if direction < length:\n",
    "        diff_x = other\n",
    "        diff_y = mulitply\n",
    "    elif direction < 2*length:\n",
    "        diff_x = mulitply\n",
    "        diff_y = -other\n",
    "    elif direction < 3*length:\n",
    "        diff_x = -other\n",
    "        diff_y = -mulitply\n",
    "    else:\n",
    "        diff_x = -mulitply\n",
    "        diff_y = other\n",
    "    new_x = data[index][0] + diff_x\n",
    "    new_y = data[index][1] + diff_y\n",
    "    return new_x,new_y\n",
    "def pure_super_move(data,index,direction,mulitply=1):\n",
    "    new_x,new_y = base_super_move(data,index,direction,mulitply)\n",
    "    data[index][0] = new_x\n",
    "    data[index][1] = new_y\n",
    "def super_move(data,index,direction,mulitply=1):\n",
    "    new_x,new_y = base_super_move(data,index,direction,mulitply)\n",
    "    if 0<new_x<9 and 0<new_y<9:\n",
    "        if check_exist(data,new_x,new_y):\n",
    "            data[index][0] = new_x\n",
    "            data[index][1] = new_y\n",
    "            return True\n",
    "    return False"
   ]
  },
  {
   "cell_type": "markdown",
   "metadata": {},
   "source": [
    "# IDFS"
   ]
  },
  {
   "cell_type": "code",
   "execution_count": 6,
   "metadata": {},
   "outputs": [
    {
     "data": {
      "text/html": [
       "<h1>test_a.csv</h1>"
      ],
      "text/plain": [
       "<IPython.core.display.HTML object>"
      ]
     },
     "metadata": {},
     "output_type": "display_data"
    },
    {
     "name": "stdout",
     "output_type": "stream",
     "text": [
      "O X O O O O O O\n",
      "O O O X O O O O\n",
      "O O O O O X O O\n",
      "O O O O O O O X\n",
      "O O X O O O O O\n",
      "X O O O O O O O\n",
      "O O O O O O X O\n",
      "O O O O X O O O\n",
      "The number of moves to correct answer is 3\n",
      "The number of total moves is 69045\n",
      "The time is 0.2503700256347656\n"
     ]
    },
    {
     "data": {
      "text/html": [
       "<h1>test_b.csv</h1>"
      ],
      "text/plain": [
       "<IPython.core.display.HTML object>"
      ]
     },
     "metadata": {},
     "output_type": "display_data"
    },
    {
     "name": "stdout",
     "output_type": "stream",
     "text": [
      "O X O O O O O O\n",
      "O O O X O O O O\n",
      "O O O O O X O O\n",
      "O O O O O O O X\n",
      "O O X O O O O O\n",
      "X O O O O O O O\n",
      "O O O O O O X O\n",
      "O O O O X O O O\n",
      "The number of moves to correct answer is 4\n",
      "The number of total moves is 4608473\n",
      "The time is 16.01227903366089\n"
     ]
    },
    {
     "ename": "KeyboardInterrupt",
     "evalue": "",
     "output_type": "error",
     "traceback": [
      "\u001b[0;31m---------------------------------------------------------------------------\u001b[0m",
      "\u001b[0;31mKeyboardInterrupt\u001b[0m                         Traceback (most recent call last)",
      "\u001b[0;32m<ipython-input-6-c51621948748>\u001b[0m in \u001b[0;36m<module>\u001b[0;34m\u001b[0m\n\u001b[1;32m     21\u001b[0m     \u001b[0mbegin\u001b[0m \u001b[0;34m=\u001b[0m \u001b[0mtime\u001b[0m\u001b[0;34m.\u001b[0m\u001b[0mtime\u001b[0m\u001b[0;34m(\u001b[0m\u001b[0;34m)\u001b[0m\u001b[0;34m\u001b[0m\u001b[0;34m\u001b[0m\u001b[0m\n\u001b[1;32m     22\u001b[0m     \u001b[0;32mfor\u001b[0m \u001b[0mi\u001b[0m \u001b[0;32min\u001b[0m \u001b[0mrange\u001b[0m\u001b[0;34m(\u001b[0m\u001b[0;36m0\u001b[0m\u001b[0;34m,\u001b[0m\u001b[0;36m8\u001b[0m\u001b[0;34m)\u001b[0m\u001b[0;34m:\u001b[0m\u001b[0;34m\u001b[0m\u001b[0;34m\u001b[0m\u001b[0m\n\u001b[0;32m---> 23\u001b[0;31m         \u001b[0mret\u001b[0m \u001b[0;34m=\u001b[0m \u001b[0midfs\u001b[0m\u001b[0;34m(\u001b[0m\u001b[0mdata\u001b[0m\u001b[0;34m,\u001b[0m\u001b[0mi\u001b[0m\u001b[0;34m)\u001b[0m\u001b[0;34m\u001b[0m\u001b[0;34m\u001b[0m\u001b[0m\n\u001b[0m\u001b[1;32m     24\u001b[0m         \u001b[0;32mif\u001b[0m \u001b[0mret\u001b[0m \u001b[0;32mis\u001b[0m \u001b[0;32mnot\u001b[0m \u001b[0;32mNone\u001b[0m\u001b[0;34m:\u001b[0m\u001b[0;34m\u001b[0m\u001b[0;34m\u001b[0m\u001b[0m\n\u001b[1;32m     25\u001b[0m             \u001b[0mend\u001b[0m \u001b[0;34m=\u001b[0m \u001b[0mtime\u001b[0m\u001b[0;34m.\u001b[0m\u001b[0mtime\u001b[0m\u001b[0;34m(\u001b[0m\u001b[0;34m)\u001b[0m\u001b[0;34m\u001b[0m\u001b[0;34m\u001b[0m\u001b[0m\n",
      "\u001b[0;32m<ipython-input-6-c51621948748>\u001b[0m in \u001b[0;36midfs\u001b[0;34m(data, level)\u001b[0m\n\u001b[1;32m     11\u001b[0m                 \u001b[0;32mglobal\u001b[0m \u001b[0mtotal_moves\u001b[0m\u001b[0;34m\u001b[0m\u001b[0;34m\u001b[0m\u001b[0m\n\u001b[1;32m     12\u001b[0m                 \u001b[0mtotal_moves\u001b[0m \u001b[0;34m+=\u001b[0m \u001b[0;36m1\u001b[0m\u001b[0;34m\u001b[0m\u001b[0;34m\u001b[0m\u001b[0m\n\u001b[0;32m---> 13\u001b[0;31m                 \u001b[0mret\u001b[0m \u001b[0;34m=\u001b[0m \u001b[0midfs\u001b[0m\u001b[0;34m(\u001b[0m\u001b[0mdata\u001b[0m\u001b[0;34m,\u001b[0m\u001b[0mlevel\u001b[0m\u001b[0;34m-\u001b[0m\u001b[0;36m1\u001b[0m\u001b[0;34m)\u001b[0m\u001b[0;34m\u001b[0m\u001b[0;34m\u001b[0m\u001b[0m\n\u001b[0m\u001b[1;32m     14\u001b[0m                 \u001b[0;32mif\u001b[0m \u001b[0mret\u001b[0m \u001b[0;32mis\u001b[0m \u001b[0;32mnot\u001b[0m \u001b[0;32mNone\u001b[0m\u001b[0;34m:\u001b[0m\u001b[0;34m\u001b[0m\u001b[0;34m\u001b[0m\u001b[0m\n\u001b[1;32m     15\u001b[0m                     \u001b[0;32mreturn\u001b[0m \u001b[0mret\u001b[0m\u001b[0;34m\u001b[0m\u001b[0;34m\u001b[0m\u001b[0m\n",
      "\u001b[0;32m<ipython-input-6-c51621948748>\u001b[0m in \u001b[0;36midfs\u001b[0;34m(data, level)\u001b[0m\n\u001b[1;32m     11\u001b[0m                 \u001b[0;32mglobal\u001b[0m \u001b[0mtotal_moves\u001b[0m\u001b[0;34m\u001b[0m\u001b[0;34m\u001b[0m\u001b[0m\n\u001b[1;32m     12\u001b[0m                 \u001b[0mtotal_moves\u001b[0m \u001b[0;34m+=\u001b[0m \u001b[0;36m1\u001b[0m\u001b[0;34m\u001b[0m\u001b[0;34m\u001b[0m\u001b[0m\n\u001b[0;32m---> 13\u001b[0;31m                 \u001b[0mret\u001b[0m \u001b[0;34m=\u001b[0m \u001b[0midfs\u001b[0m\u001b[0;34m(\u001b[0m\u001b[0mdata\u001b[0m\u001b[0;34m,\u001b[0m\u001b[0mlevel\u001b[0m\u001b[0;34m-\u001b[0m\u001b[0;36m1\u001b[0m\u001b[0;34m)\u001b[0m\u001b[0;34m\u001b[0m\u001b[0;34m\u001b[0m\u001b[0m\n\u001b[0m\u001b[1;32m     14\u001b[0m                 \u001b[0;32mif\u001b[0m \u001b[0mret\u001b[0m \u001b[0;32mis\u001b[0m \u001b[0;32mnot\u001b[0m \u001b[0;32mNone\u001b[0m\u001b[0;34m:\u001b[0m\u001b[0;34m\u001b[0m\u001b[0;34m\u001b[0m\u001b[0m\n\u001b[1;32m     15\u001b[0m                     \u001b[0;32mreturn\u001b[0m \u001b[0mret\u001b[0m\u001b[0;34m\u001b[0m\u001b[0;34m\u001b[0m\u001b[0m\n",
      "\u001b[0;32m<ipython-input-6-c51621948748>\u001b[0m in \u001b[0;36midfs\u001b[0;34m(data, level)\u001b[0m\n\u001b[1;32m     11\u001b[0m                 \u001b[0;32mglobal\u001b[0m \u001b[0mtotal_moves\u001b[0m\u001b[0;34m\u001b[0m\u001b[0;34m\u001b[0m\u001b[0m\n\u001b[1;32m     12\u001b[0m                 \u001b[0mtotal_moves\u001b[0m \u001b[0;34m+=\u001b[0m \u001b[0;36m1\u001b[0m\u001b[0;34m\u001b[0m\u001b[0;34m\u001b[0m\u001b[0m\n\u001b[0;32m---> 13\u001b[0;31m                 \u001b[0mret\u001b[0m \u001b[0;34m=\u001b[0m \u001b[0midfs\u001b[0m\u001b[0;34m(\u001b[0m\u001b[0mdata\u001b[0m\u001b[0;34m,\u001b[0m\u001b[0mlevel\u001b[0m\u001b[0;34m-\u001b[0m\u001b[0;36m1\u001b[0m\u001b[0;34m)\u001b[0m\u001b[0;34m\u001b[0m\u001b[0;34m\u001b[0m\u001b[0m\n\u001b[0m\u001b[1;32m     14\u001b[0m                 \u001b[0;32mif\u001b[0m \u001b[0mret\u001b[0m \u001b[0;32mis\u001b[0m \u001b[0;32mnot\u001b[0m \u001b[0;32mNone\u001b[0m\u001b[0;34m:\u001b[0m\u001b[0;34m\u001b[0m\u001b[0;34m\u001b[0m\u001b[0m\n\u001b[1;32m     15\u001b[0m                     \u001b[0;32mreturn\u001b[0m \u001b[0mret\u001b[0m\u001b[0;34m\u001b[0m\u001b[0;34m\u001b[0m\u001b[0m\n",
      "\u001b[0;32m<ipython-input-6-c51621948748>\u001b[0m in \u001b[0;36midfs\u001b[0;34m(data, level)\u001b[0m\n\u001b[1;32m     11\u001b[0m                 \u001b[0;32mglobal\u001b[0m \u001b[0mtotal_moves\u001b[0m\u001b[0;34m\u001b[0m\u001b[0;34m\u001b[0m\u001b[0m\n\u001b[1;32m     12\u001b[0m                 \u001b[0mtotal_moves\u001b[0m \u001b[0;34m+=\u001b[0m \u001b[0;36m1\u001b[0m\u001b[0;34m\u001b[0m\u001b[0;34m\u001b[0m\u001b[0m\n\u001b[0;32m---> 13\u001b[0;31m                 \u001b[0mret\u001b[0m \u001b[0;34m=\u001b[0m \u001b[0midfs\u001b[0m\u001b[0;34m(\u001b[0m\u001b[0mdata\u001b[0m\u001b[0;34m,\u001b[0m\u001b[0mlevel\u001b[0m\u001b[0;34m-\u001b[0m\u001b[0;36m1\u001b[0m\u001b[0;34m)\u001b[0m\u001b[0;34m\u001b[0m\u001b[0;34m\u001b[0m\u001b[0m\n\u001b[0m\u001b[1;32m     14\u001b[0m                 \u001b[0;32mif\u001b[0m \u001b[0mret\u001b[0m \u001b[0;32mis\u001b[0m \u001b[0;32mnot\u001b[0m \u001b[0;32mNone\u001b[0m\u001b[0;34m:\u001b[0m\u001b[0;34m\u001b[0m\u001b[0;34m\u001b[0m\u001b[0m\n\u001b[1;32m     15\u001b[0m                     \u001b[0;32mreturn\u001b[0m \u001b[0mret\u001b[0m\u001b[0;34m\u001b[0m\u001b[0;34m\u001b[0m\u001b[0m\n",
      "\u001b[0;32m<ipython-input-6-c51621948748>\u001b[0m in \u001b[0;36midfs\u001b[0;34m(data, level)\u001b[0m\n\u001b[1;32m     11\u001b[0m                 \u001b[0;32mglobal\u001b[0m \u001b[0mtotal_moves\u001b[0m\u001b[0;34m\u001b[0m\u001b[0;34m\u001b[0m\u001b[0m\n\u001b[1;32m     12\u001b[0m                 \u001b[0mtotal_moves\u001b[0m \u001b[0;34m+=\u001b[0m \u001b[0;36m1\u001b[0m\u001b[0;34m\u001b[0m\u001b[0;34m\u001b[0m\u001b[0m\n\u001b[0;32m---> 13\u001b[0;31m                 \u001b[0mret\u001b[0m \u001b[0;34m=\u001b[0m \u001b[0midfs\u001b[0m\u001b[0;34m(\u001b[0m\u001b[0mdata\u001b[0m\u001b[0;34m,\u001b[0m\u001b[0mlevel\u001b[0m\u001b[0;34m-\u001b[0m\u001b[0;36m1\u001b[0m\u001b[0;34m)\u001b[0m\u001b[0;34m\u001b[0m\u001b[0;34m\u001b[0m\u001b[0m\n\u001b[0m\u001b[1;32m     14\u001b[0m                 \u001b[0;32mif\u001b[0m \u001b[0mret\u001b[0m \u001b[0;32mis\u001b[0m \u001b[0;32mnot\u001b[0m \u001b[0;32mNone\u001b[0m\u001b[0;34m:\u001b[0m\u001b[0;34m\u001b[0m\u001b[0;34m\u001b[0m\u001b[0m\n\u001b[1;32m     15\u001b[0m                     \u001b[0;32mreturn\u001b[0m \u001b[0mret\u001b[0m\u001b[0;34m\u001b[0m\u001b[0;34m\u001b[0m\u001b[0m\n",
      "\u001b[0;32m<ipython-input-6-c51621948748>\u001b[0m in \u001b[0;36midfs\u001b[0;34m(data, level)\u001b[0m\n\u001b[1;32m      2\u001b[0m \u001b[0;32mdef\u001b[0m \u001b[0midfs\u001b[0m\u001b[0;34m(\u001b[0m\u001b[0mdata\u001b[0m\u001b[0;34m,\u001b[0m\u001b[0mlevel\u001b[0m\u001b[0;34m)\u001b[0m\u001b[0;34m:\u001b[0m\u001b[0;34m\u001b[0m\u001b[0;34m\u001b[0m\u001b[0m\n\u001b[1;32m      3\u001b[0m     \u001b[0;32mif\u001b[0m \u001b[0mlevel\u001b[0m \u001b[0;34m==\u001b[0m \u001b[0;36m0\u001b[0m\u001b[0;34m:\u001b[0m\u001b[0;34m\u001b[0m\u001b[0;34m\u001b[0m\u001b[0m\n\u001b[0;32m----> 4\u001b[0;31m         \u001b[0;32mif\u001b[0m \u001b[0mcheck_condtions\u001b[0m\u001b[0;34m(\u001b[0m\u001b[0mdata\u001b[0m\u001b[0;34m)\u001b[0m\u001b[0;34m:\u001b[0m\u001b[0;34m\u001b[0m\u001b[0;34m\u001b[0m\u001b[0m\n\u001b[0m\u001b[1;32m      5\u001b[0m             \u001b[0;32mreturn\u001b[0m \u001b[0mdata\u001b[0m\u001b[0;34m\u001b[0m\u001b[0;34m\u001b[0m\u001b[0m\n\u001b[1;32m      6\u001b[0m         \u001b[0;32melse\u001b[0m\u001b[0;34m:\u001b[0m\u001b[0;34m\u001b[0m\u001b[0;34m\u001b[0m\u001b[0m\n",
      "\u001b[0;32m<ipython-input-2-711cdc41a19c>\u001b[0m in \u001b[0;36mcheck_condtions\u001b[0;34m(data)\u001b[0m\n\u001b[1;32m     30\u001b[0m     \u001b[0;32mreturn\u001b[0m \u001b[0mcount_row_threats\u001b[0m\u001b[0;34m(\u001b[0m\u001b[0mdata\u001b[0m\u001b[0;34m)\u001b[0m \u001b[0;34m+\u001b[0m \u001b[0mcount_column_threats\u001b[0m\u001b[0;34m(\u001b[0m\u001b[0mdata\u001b[0m\u001b[0;34m)\u001b[0m \u001b[0;34m+\u001b[0m \u001b[0mcount_diagonal_threats\u001b[0m\u001b[0;34m(\u001b[0m\u001b[0mdata\u001b[0m\u001b[0;34m)\u001b[0m\u001b[0;34m\u001b[0m\u001b[0;34m\u001b[0m\u001b[0m\n\u001b[1;32m     31\u001b[0m \u001b[0;32mdef\u001b[0m \u001b[0mcheck_condtions\u001b[0m\u001b[0;34m(\u001b[0m\u001b[0mdata\u001b[0m\u001b[0;34m)\u001b[0m\u001b[0;34m:\u001b[0m\u001b[0;34m\u001b[0m\u001b[0;34m\u001b[0m\u001b[0m\n\u001b[0;32m---> 32\u001b[0;31m     \u001b[0;32mif\u001b[0m \u001b[0mcount_row_threats\u001b[0m\u001b[0;34m(\u001b[0m\u001b[0mdata\u001b[0m\u001b[0;34m)\u001b[0m\u001b[0;34m==\u001b[0m\u001b[0;36m0\u001b[0m\u001b[0;34m:\u001b[0m\u001b[0;34m\u001b[0m\u001b[0;34m\u001b[0m\u001b[0m\n\u001b[0m\u001b[1;32m     33\u001b[0m         \u001b[0;32mif\u001b[0m \u001b[0mcount_column_threats\u001b[0m\u001b[0;34m(\u001b[0m\u001b[0mdata\u001b[0m\u001b[0;34m)\u001b[0m\u001b[0;34m==\u001b[0m\u001b[0;36m0\u001b[0m\u001b[0;34m:\u001b[0m\u001b[0;34m\u001b[0m\u001b[0;34m\u001b[0m\u001b[0m\n\u001b[1;32m     34\u001b[0m             \u001b[0;32mif\u001b[0m \u001b[0mcount_diagonal_threats\u001b[0m\u001b[0;34m(\u001b[0m\u001b[0mdata\u001b[0m\u001b[0;34m)\u001b[0m\u001b[0;34m==\u001b[0m\u001b[0;36m0\u001b[0m\u001b[0;34m:\u001b[0m\u001b[0;34m\u001b[0m\u001b[0;34m\u001b[0m\u001b[0m\n",
      "\u001b[0;32m<ipython-input-2-711cdc41a19c>\u001b[0m in \u001b[0;36mcount_row_threats\u001b[0;34m(data)\u001b[0m\n\u001b[1;32m      9\u001b[0m     \u001b[0;32mreturn\u001b[0m \u001b[0mcounter\u001b[0m\u001b[0;34m\u001b[0m\u001b[0;34m\u001b[0m\u001b[0m\n\u001b[1;32m     10\u001b[0m \u001b[0;32mdef\u001b[0m \u001b[0mcount_row_threats\u001b[0m\u001b[0;34m(\u001b[0m\u001b[0mdata\u001b[0m\u001b[0;34m)\u001b[0m\u001b[0;34m:\u001b[0m\u001b[0;34m\u001b[0m\u001b[0;34m\u001b[0m\u001b[0m\n\u001b[0;32m---> 11\u001b[0;31m     \u001b[0;32mreturn\u001b[0m \u001b[0mcheck_mutual_cells\u001b[0m\u001b[0;34m(\u001b[0m\u001b[0mdata\u001b[0m\u001b[0;34m,\u001b[0m\u001b[0;36m0\u001b[0m\u001b[0;34m)\u001b[0m\u001b[0;34m\u001b[0m\u001b[0;34m\u001b[0m\u001b[0m\n\u001b[0m\u001b[1;32m     12\u001b[0m \u001b[0;32mdef\u001b[0m \u001b[0mcount_column_threats\u001b[0m\u001b[0;34m(\u001b[0m\u001b[0mdata\u001b[0m\u001b[0;34m)\u001b[0m\u001b[0;34m:\u001b[0m\u001b[0;34m\u001b[0m\u001b[0;34m\u001b[0m\u001b[0m\n\u001b[1;32m     13\u001b[0m     \u001b[0;32mreturn\u001b[0m \u001b[0mcheck_mutual_cells\u001b[0m\u001b[0;34m(\u001b[0m\u001b[0mdata\u001b[0m\u001b[0;34m,\u001b[0m\u001b[0;36m1\u001b[0m\u001b[0;34m)\u001b[0m\u001b[0;34m\u001b[0m\u001b[0;34m\u001b[0m\u001b[0m\n",
      "\u001b[0;32m<ipython-input-2-711cdc41a19c>\u001b[0m in \u001b[0;36mcheck_mutual_cells\u001b[0;34m(data, column_number)\u001b[0m\n\u001b[1;32m      6\u001b[0m             \u001b[0mcounter\u001b[0m \u001b[0;34m+=\u001b[0m \u001b[0;36m1\u001b[0m\u001b[0;34m\u001b[0m\u001b[0;34m\u001b[0m\u001b[0m\n\u001b[1;32m      7\u001b[0m         \u001b[0;32melse\u001b[0m\u001b[0;34m:\u001b[0m\u001b[0;34m\u001b[0m\u001b[0;34m\u001b[0m\u001b[0m\n\u001b[0;32m----> 8\u001b[0;31m             \u001b[0mque\u001b[0m\u001b[0;34m.\u001b[0m\u001b[0mappend\u001b[0m\u001b[0;34m(\u001b[0m\u001b[0mitem\u001b[0m\u001b[0;34m[\u001b[0m\u001b[0mcolumn_number\u001b[0m\u001b[0;34m]\u001b[0m\u001b[0;34m)\u001b[0m\u001b[0;34m\u001b[0m\u001b[0;34m\u001b[0m\u001b[0m\n\u001b[0m\u001b[1;32m      9\u001b[0m     \u001b[0;32mreturn\u001b[0m \u001b[0mcounter\u001b[0m\u001b[0;34m\u001b[0m\u001b[0;34m\u001b[0m\u001b[0m\n\u001b[1;32m     10\u001b[0m \u001b[0;32mdef\u001b[0m \u001b[0mcount_row_threats\u001b[0m\u001b[0;34m(\u001b[0m\u001b[0mdata\u001b[0m\u001b[0;34m)\u001b[0m\u001b[0;34m:\u001b[0m\u001b[0;34m\u001b[0m\u001b[0;34m\u001b[0m\u001b[0m\n",
      "\u001b[0;31mKeyboardInterrupt\u001b[0m: "
     ]
    }
   ],
   "source": [
    "total_moves = 0\n",
    "def idfs(data,level):\n",
    "    if level == 0:\n",
    "        if check_condtions(data):\n",
    "            return data\n",
    "        else:\n",
    "            return None\n",
    "    for index in range(8):\n",
    "        for direction in range(8):\n",
    "            if move(data,index,direction):\n",
    "                global total_moves\n",
    "                total_moves += 1\n",
    "                ret = idfs(data,level-1)\n",
    "                if ret is not None:\n",
    "                    return ret\n",
    "                pure_move(data,index,direction,-1)\n",
    "total_time = 0\n",
    "for file_name in idfs_test:\n",
    "    data = pd.read_csv(file_name,header=None)\n",
    "    data = data.values.tolist()\n",
    "    begin = time.time()\n",
    "    for i in range(0,8):\n",
    "        ret = idfs(data,i)\n",
    "        if ret is not None:\n",
    "            end = time.time()\n",
    "            print_as_header(file_name)\n",
    "            print_grid(ret)\n",
    "            print (\"The number of moves to correct answer is \"+str(i))\n",
    "            print (\"The number of total moves is \"+str(total_moves))\n",
    "            break\n",
    "    print (\"The time is \" + str(end-begin))\n",
    "    total_time+=end-begin\n",
    "print (\"The avereage time is \" + str(total_time/len(idfs_test)))"
   ]
  },
  {
   "cell_type": "markdown",
   "metadata": {
    "tags": [
     "hide"
    ]
   },
   "source": [
    "# Improved IDFS"
   ]
  },
  {
   "cell_type": "markdown",
   "metadata": {
    "tags": [
     "hide"
    ]
   },
   "source": [
    "### Improved IDFS Requirement Functions"
   ]
  },
  {
   "cell_type": "code",
   "execution_count": null,
   "metadata": {
    "tags": [
     "hide"
    ]
   },
   "outputs": [],
   "source": [
    "def sub_increament(numbers,maxi,i):\n",
    "    numbers[-i] += 1\n",
    "    if numbers[-i] == maxi-i:\n",
    "        sub_increament(numbers,maxi,i+1)\n",
    "        numbers[-i] = numbers[-(i+1)] + 1\n",
    "def increament(numbers,maxi):\n",
    "    try:\n",
    "        sub_increament(numbers,maxi+1,1)\n",
    "        return True\n",
    "    except:\n",
    "        return False\n",
    "def create_list(begin,end):\n",
    "    return [i for i in range(begin,end)]\n",
    "def convert_to_move(numbers,length):\n",
    "    arr = [0]*length\n",
    "    for n in numbers:\n",
    "        arr[n] = 1\n",
    "    temp = 0\n",
    "    ret  = []\n",
    "    for i in arr:\n",
    "        if i == 0:\n",
    "            ret.append(temp)\n",
    "            temp = 0\n",
    "        else:\n",
    "            temp+=1\n",
    "    ret.append(temp)\n",
    "    return ret"
   ]
  },
  {
   "cell_type": "markdown",
   "metadata": {
    "tags": [
     "hide"
    ]
   },
   "source": [
    "### Improved IDFS Main Functions"
   ]
  },
  {
   "cell_type": "code",
   "execution_count": null,
   "metadata": {
    "tags": [
     "hide"
    ]
   },
   "outputs": [],
   "source": [
    "def sub_improved_idfs(data,moves,index):\n",
    "    next_index = 0\n",
    "    for next_index in range(index+1,9):\n",
    "        if next_index == 8:\n",
    "            break\n",
    "        if moves[next_index] != 0:\n",
    "            break\n",
    "    for direction in range(8*moves[index]):\n",
    "        if super_move(data,index,direction,moves[index]):\n",
    "            if next_index == 8:\n",
    "                if check_condtions(data):\n",
    "                    return data\n",
    "            else:\n",
    "                ret = sub_improved_idfs(data,moves,next_index)\n",
    "                if ret is not None:\n",
    "                    return ret\n",
    "            pure_super_move(data,index,direction,-moves[index])\n",
    "    return None\n",
    "def improved_idfs(data,level):\n",
    "    total_moves = 0\n",
    "    if level == 0:\n",
    "        if check_condtions(data):\n",
    "            return data\n",
    "        else:\n",
    "            return None\n",
    "    n = create_list(0,level)\n",
    "    while True:\n",
    "        moves = convert_to_move(n,7+level)\n",
    "        total_moves += level\n",
    "        ret = sub_improved_idfs(data,moves,n[0])\n",
    "        if ret is not None:\n",
    "            return total_moves,ret\n",
    "        if not increament(n,7+level):\n",
    "            break\n",
    "    return None\n",
    "# total_time = 0\n",
    "# for file_name in a_star_test:\n",
    "#     data = pd.read_csv(file_name,header=None)\n",
    "#     data = data.values.tolist()\n",
    "#     begin = time.time()\n",
    "#     for i in range(0,8):\n",
    "#         ret = improved_idfs(data,i)\n",
    "#         if ret is not None:\n",
    "#             end = time.time()\n",
    "#             print_as_header(file_name)\n",
    "#             print_grid(ret[1])\n",
    "#             print (\"The number of moves to correct answer is \"+str(i))\n",
    "#             print (\"The number of total moves is \"+str(ret[0]))\n",
    "#             break\n",
    "#     print (\"The time is \" + str(end-begin))\n",
    "#     total_time+=end-begin\n",
    "# print (\"The avereage time is \" + str(total_time/ln(a_star_test)))"
   ]
  },
  {
   "cell_type": "markdown",
   "metadata": {},
   "source": [
    "# BFS"
   ]
  },
  {
   "cell_type": "code",
   "execution_count": null,
   "metadata": {},
   "outputs": [],
   "source": [
    "from collections import deque\n",
    "total_moves = 0\n",
    "def my_hash(data):\n",
    "    ret = ''\n",
    "    for row in data:\n",
    "        ret += chr(row[0]*8+row[1])\n",
    "    return ret\n",
    "def bfs(data):\n",
    "    visited = {}\n",
    "    should_visit = deque()\n",
    "    move_count = deque()\n",
    "    should_visit.append(data)\n",
    "    move_count.append(0)\n",
    "    while True:\n",
    "        data = should_visit.popleft()\n",
    "        curent_move_count = move_count.popleft()\n",
    "        if my_hash(data) not in visited:\n",
    "            global total_moves\n",
    "            total_moves += 1\n",
    "            if check_condtions(data):\n",
    "                return curent_move_count,data\n",
    "            visited[my_hash(data)] = 0\n",
    "            for index in range(8):\n",
    "                for direction in range(8):\n",
    "                    new_d = [row[:] for row in data]\n",
    "                    if move(new_d,index,direction):\n",
    "                        if my_hash(new_d) not in visited:\n",
    "                            should_visit.append(new_d)\n",
    "                            move_count.append(curent_move_count+1)\n",
    "total_time = 0\n",
    "for file_name in bfs_test:\n",
    "    data = pd.read_csv(file_name,header=None)\n",
    "    data = data.values.tolist()\n",
    "    begin = time.time()\n",
    "    ret = bfs(data)\n",
    "    print_as_header(file_name)\n",
    "    end = time.time()\n",
    "    print_grid(ret[1])\n",
    "    print (\"The number of moves to correct answer is \"+str(ret[0]))\n",
    "    print (\"The number of total moves is \"+str(total_moves))\n",
    "    print (\"The time is \" + str(end-begin))\n",
    "    total_time+=end-begin\n",
    "print (\"The avereage time without third file is \" + str(total_time/len(bfs_test)))"
   ]
  },
  {
   "cell_type": "markdown",
   "metadata": {},
   "source": [
    "# A*"
   ]
  },
  {
   "cell_type": "code",
   "execution_count": null,
   "metadata": {},
   "outputs": [],
   "source": [
    "def a_star(data):\n",
    "    pop_count = 0\n",
    "    visited = {}\n",
    "    should_visit = []\n",
    "    grades = []\n",
    "    move_count = []\n",
    "    should_visit.append(data)\n",
    "    grades.append(count_all(data))\n",
    "    move_count.append(0)\n",
    "    while True:\n",
    "        ind = grades.index(min(grades))\n",
    "        data = should_visit.pop(ind)\n",
    "        grades.pop(ind)\n",
    "        curent_move_count = move_count.pop(ind)\n",
    "        pop_count += 1\n",
    "        if my_hash(data) not in visited:\n",
    "            visited[my_hash(data)] = 0\n",
    "            for index in range(8):\n",
    "                for direction in range(8):\n",
    "                    new_d = [row[:] for row in data]\n",
    "                    if move(new_d,index,direction):\n",
    "                        if my_hash(new_d) not in visited:\n",
    "                            h = count_all(new_d)\n",
    "                            if h == 0:\n",
    "                                return curent_move_count+1,pop_count,new_d\n",
    "                            should_visit.append(new_d)\n",
    "                            grades.append(h+1.2*curent_move_count)\n",
    "                            move_count.append(curent_move_count+1)\n",
    "total_time = 0\n",
    "for file_name in a_star_test:\n",
    "    data = pd.read_csv(file_name,header=None)\n",
    "    data = data.values.tolist()\n",
    "    begin = time.time()\n",
    "    ret = a_star(data)\n",
    "    end = time.time()\n",
    "    print_as_header(file_name)\n",
    "    print_grid(ret[2])\n",
    "    print (\"The number of moves to correct answer is \"+str(ret[0]))\n",
    "    print (\"The number of total moves is \"+str(ret[1]))\n",
    "    print (\"The time is \" + str(end-begin))\n",
    "    total_time+=end-begin\n",
    "print (\"The avereage time is \" + str(total_time/len(a_star_test)))"
   ]
  }
 ],
 "metadata": {
  "celltoolbar": "Tags",
  "kernelspec": {
   "display_name": "Python 3",
   "language": "python",
   "name": "python3"
  },
  "language_info": {
   "codemirror_mode": {
    "name": "ipython",
    "version": 3
   },
   "file_extension": ".py",
   "mimetype": "text/x-python",
   "name": "python",
   "nbconvert_exporter": "python",
   "pygments_lexer": "ipython3",
   "version": "3.7.1"
  }
 },
 "nbformat": 4,
 "nbformat_minor": 2
}
