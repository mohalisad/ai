{
 "cells": [
  {
   "cell_type": "code",
   "execution_count": 10,
   "metadata": {},
   "outputs": [
    {
     "data": {
      "text/html": [
       "<style>\n",
       "@font-face{font-family:Vazir;src:url(Vazir.eot);src:url(Vazir.eot?#iefix) format(\"embedded-opentype\"),url(Vazir.woff2) format(\"woff2\"),url(Vazir.woff) format(\"woff\"),url(Vazir.ttf) format(\"truetype\");font-weight:400;font-style:normal}.farsi{font-family:Vazir;direction:rtl}.center{text-align:center}.justify{text-align:justify}.blue{color:blue}\n",
       "</style>\n"
      ],
      "text/plain": [
       "<IPython.core.display.HTML object>"
      ]
     },
     "metadata": {},
     "output_type": "display_data"
    }
   ],
   "source": [
    "%%html\n",
    "<style>@font-face{font-family:Vazir;src:url(Vazir.eot);src:url(Vazir.eot?#iefix) format(\"embedded-opentype\"),url(Vazir.woff2) format(\"woff2\"),url(Vazir.woff) format(\"woff\"),url(Vazir.ttf) format(\"truetype\");font-weight:400;font-style:normal}.farsi{font-family:Vazir;direction:rtl}.center{text-align:center}.justify{text-align:justify}.blue{color:blue}</style>"
   ]
  },
  {
   "cell_type": "markdown",
   "metadata": {},
   "source": [
    "<div class=\"farsi justify\">\n",
    "    ۱- Grayscale : با تبدیل هر عکس به سیاه سفید باعث می‌شود تاثیر فاکتور رنگ برای یک عکس از بین برود یعنی ماشین قرمز و آبی دیگر برایش فرق ندارد\n",
    "    <br/>\n",
    "    PCA : با کاهش ابعاد بردار ويژگی باعث می‌شود که سرعت ترین و تا حدی بازدهی آن افزایش پیدا کند\n",
    "    <br/>\n",
    "    Random Projection: روشی‌است که با آن ابعاد بردار ويژگی کاهش پیدا می‌کند که تاثیر آن مانند PCA است\n",
    "    <br/>\n",
    "    Augmentation: با تغییر هر عکس روی داده train تعداد اعضای داده train را بیشتر می‌کند از روش‌های تغییر عکس مانند چرخش یا قرینه کردن استفاده می‌شود.\n",
    "</div>"
   ]
  },
  {
   "cell_type": "markdown",
   "metadata": {},
   "source": [
    "## <div class = \"farsi center blue\">خواندن از فایل ها</div>"
   ]
  },
  {
   "cell_type": "code",
   "execution_count": 2,
   "metadata": {},
   "outputs": [
    {
     "name": "stdout",
     "output_type": "stream",
     "text": [
      "loading........done\n"
     ]
    }
   ],
   "source": [
    "import pandas as pd\n",
    "import numpy as np\n",
    "\n",
    "CIFAR_LENGTH  = 32\n",
    "train_data    = pd.read_csv('CIFAR10/CIFAR10_train_data.csv' ,header=None)\n",
    "train_label   = pd.read_csv('CIFAR10/CIFAR10_train_label.csv',header=None)\n",
    "test_data     = pd.read_csv('CIFAR10/CIFAR10_val_data.csv'   ,header=None)\n",
    "test_label    = pd.read_csv('CIFAR10/CIFAR10_val_label.csv'  ,header=None)\n",
    "real_test     = pd.read_csv('CIFAR10/CIFAR10_test_data.csv'  ,header=None)\n",
    "np_test_label = np.array(test_label[0].values)\n",
    "print('loading........done')"
   ]
  },
  {
   "cell_type": "markdown",
   "metadata": {},
   "source": [
    "## <div class = \"farsi center blue\">توابع اولیه</div>"
   ]
  },
  {
   "cell_type": "code",
   "execution_count": 3,
   "metadata": {},
   "outputs": [],
   "source": [
    "from PIL import Image\n",
    "from matplotlib.pyplot import imshow\n",
    "import skimage.transform as imgtrans\n",
    "\n",
    "def vec_to_img(img_vec):\n",
    "    img_vec = img_vec.astype(np.uint8)\n",
    "    img_arr = np.asarray(img_vec).reshape((CIFAR_LENGTH,CIFAR_LENGTH,3))\n",
    "    return Image.fromarray(img_arr, 'RGB')\n",
    "def img_to_vec(img):\n",
    "    arr = np.array(img)\n",
    "    return arr.ravel()\n",
    "def rotate_img(img,degree):\n",
    "    img_arr = imgtrans.rotate(np.array(img),degree,mode='reflect')\n",
    "    return img_arr.ravel()\n",
    "def print_img(img):\n",
    "    imshow(np.asarray(img))\n",
    "def calc_grade(perdicts,source = np_test_label):\n",
    "    np_source = np.array(source)\n",
    "    np_perdicts = np.array(perdicts)\n",
    "    return np.count_nonzero(np_perdicts==np_source)/len(np_source)"
   ]
  },
  {
   "cell_type": "markdown",
   "metadata": {},
   "source": [
    "## <div class = \"farsi center blue\">تبدیل همه عکس‌ها به سیاه سفید</div>"
   ]
  },
  {
   "cell_type": "code",
   "execution_count": 4,
   "metadata": {},
   "outputs": [
    {
     "name": "stdout",
     "output_type": "stream",
     "text": [
      "done\n"
     ]
    }
   ],
   "source": [
    "gr_train_data = train_data.apply(lambda x:vec_to_img(x).convert('L'),axis = 1)\n",
    "gr_test_data  = test_data.apply(lambda x:img_to_vec(vec_to_img(x).convert('L')),axis = 1,result_type = 'expand')\n",
    "gr_real_test  = real_test.apply(lambda x:img_to_vec(vec_to_img(x).convert('L')),axis = 1,result_type = 'expand')\n",
    "print('done')"
   ]
  },
  {
   "cell_type": "markdown",
   "metadata": {},
   "source": [
    "## <div class = \"farsi center blue\">پیاده سازی Augmentation بر روی داده Train و دو برابر کردن حجم آن</div>"
   ]
  },
  {
   "cell_type": "code",
   "execution_count": 5,
   "metadata": {},
   "outputs": [
    {
     "name": "stdout",
     "output_type": "stream",
     "text": [
      "done\n"
     ]
    }
   ],
   "source": [
    "fliped_train_data = gr_train_data.apply(lambda x:x.transpose(Image.FLIP_LEFT_RIGHT))\n",
    "new_train_data    = pd.concat([gr_train_data, fliped_train_data],ignore_index=True).to_frame()\n",
    "\n",
    "new_train_data = new_train_data.apply(lambda x:img_to_vec(x[0]),axis = 1,result_type = 'expand')\n",
    "\n",
    "expanded_train_label = pd.concat([train_label]*2,ignore_index=True)\n",
    "print('done')"
   ]
  },
  {
   "cell_type": "markdown",
   "metadata": {},
   "source": [
    "## <div class = \"farsi center blue\">کاهش ابعاد بردار ویژگی به ۲۰</div>"
   ]
  },
  {
   "cell_type": "code",
   "execution_count": 6,
   "metadata": {},
   "outputs": [],
   "source": [
    "from sklearn.random_projection import GaussianRandomProjection\n",
    "grp = GaussianRandomProjection(n_components=150)\n",
    "grp.fit(new_train_data.values)\n",
    "grp_train     = grp.transform(new_train_data.values)\n",
    "grp_test      = grp.transform(gr_test_data.values)\n",
    "grp_real_test = grp.transform(gr_real_test.values)"
   ]
  },
  {
   "cell_type": "code",
   "execution_count": 7,
   "metadata": {},
   "outputs": [
    {
     "name": "stdout",
     "output_type": "stream",
     "text": [
      "done\n"
     ]
    }
   ],
   "source": [
    "from sklearn.decomposition import PCA\n",
    "pca = PCA(n_components=20)\n",
    "pca.fit(grp_train)\n",
    "pca_train     = pca.transform(grp_train)\n",
    "pca_test      = pca.transform(grp_test)\n",
    "pca_real_test = pca.transform(grp_real_test)\n",
    "print('done')"
   ]
  },
  {
   "cell_type": "markdown",
   "metadata": {},
   "source": [
    "## <div class = \"farsi center blue\">محاسبه خطا برای داده‌های Test</div>"
   ]
  },
  {
   "cell_type": "code",
   "execution_count": 8,
   "metadata": {},
   "outputs": [
    {
     "name": "stdout",
     "output_type": "stream",
     "text": [
      "0.405\n"
     ]
    }
   ],
   "source": [
    "from sklearn.ensemble import RandomForestClassifier\n",
    "rfc = RandomForestClassifier(n_estimators=100,random_state = 0)\n",
    "rfc.fit(pca_train,expanded_train_label[0].values)\n",
    "rfc_predicted = rfc.predict(pca_test)\n",
    "print(calc_grade(rfc_predicted))"
   ]
  },
  {
   "cell_type": "markdown",
   "metadata": {},
   "source": [
    "## <div class = \"farsi center blue\">ذخیره‌سازی خروجی Real test</div>"
   ]
  },
  {
   "cell_type": "code",
   "execution_count": 9,
   "metadata": {},
   "outputs": [],
   "source": [
    "output = pd.DataFrame()\n",
    "output['id']      = [i for i in range(1,len(pca_real_test)+1)]\n",
    "output['predict'] = rfc.predict(pca_real_test)\n",
    "output.to_csv('810195420.csv',index=False)"
   ]
  },
  {
   "cell_type": "markdown",
   "metadata": {},
   "source": [
    "## <div class = \"farsi center blue\">جمع بندی</div>"
   ]
  },
  {
   "cell_type": "markdown",
   "metadata": {},
   "source": [
    "<div class=\"farsi justify\">\n",
    "    به طور کلی GRayscale تاثیر زیادی بر عملکرد الگوریتم گذاشت و همچنین pca و randomprojection باعث شدند بدون از دست رفتن ملموس عملکرد سرعت اجرا افزایش پیدا کند.\n",
    "    ولی برخلاف تصور Augmentation تاثیر زیادی بر عملکرد نداشت و فقط باعث کاهش سرعت و حتی کاهش عملکرد شد برای همین فقط از flip استفاده شد و از چرخش استفاده نشد.\n",
    "</div>"
   ]
  }
 ],
 "metadata": {
  "kernelspec": {
   "display_name": "Python 3",
   "language": "python",
   "name": "python3"
  },
  "language_info": {
   "codemirror_mode": {
    "name": "ipython",
    "version": 3
   },
   "file_extension": ".py",
   "mimetype": "text/x-python",
   "name": "python",
   "nbconvert_exporter": "python",
   "pygments_lexer": "ipython3",
   "version": "3.7.1"
  }
 },
 "nbformat": 4,
 "nbformat_minor": 2
}
