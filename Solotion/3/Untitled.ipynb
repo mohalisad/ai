{
 "cells": [
  {
   "cell_type": "markdown",
   "metadata": {},
   "source": [
    "# <font color='blue'>تعاریف اولیه</font>"
   ]
  },
  {
   "cell_type": "markdown",
   "metadata": {},
   "source": [
    "## خواندن دیتای ترین و ایمپورتهای اولیه"
   ]
  },
  {
   "cell_type": "code",
   "execution_count": 1,
   "metadata": {},
   "outputs": [],
   "source": [
    "import pandas as pd\n",
    "import matplotlib.pyplot as plt\n",
    "import numpy as np\n",
    "import matplotlib.ticker as ticker\n",
    "import nltk\n",
    "import math\n",
    "\n",
    "data = pd.read_csv('train_test.csv')"
   ]
  },
  {
   "cell_type": "markdown",
   "metadata": {},
   "source": [
    "## تعریف تابع نرمالایز"
   ]
  },
  {
   "cell_type": "markdown",
   "metadata": {},
   "source": [
    "تابع نرمالایز زیر در طی چند مرحله ابتدا کلمات را از هم جدا کرده سپس کلمات پرتکرار انگلیسی را حذف و تمامی کلمات را به ساده ترین شکل ممکنشان می آورد برای مثال فعلها را از گذشته به حال می آورد یا اسامی جمع را ساده میکند"
   ]
  },
  {
   "cell_type": "code",
   "execution_count": 2,
   "metadata": {},
   "outputs": [],
   "source": [
    "#nltk.download('stopwords')\n",
    "#nltk.download('averaged_perceptron_tagger')\n",
    "#nltk.download('wordnet')\n",
    "MY_STOP_WORDS = ['u','dont']\n",
    "def normalize(inp):\n",
    "    wnl = nltk.stem.wordnet.WordNetLemmatizer()\n",
    "    stop_words = set(nltk.corpus.stopwords.words('english') + MY_STOP_WORDS)\n",
    "    tokenizer = nltk.tokenize.RegexpTokenizer('\\w+')\n",
    "    \n",
    "    tokens = tokenizer.tokenize(inp.lower())\n",
    "\n",
    "    filtered = []\n",
    "    for token,pos in nltk.pos_tag(tokens):\n",
    "        if token not in stop_words:\n",
    "            pos = pos[0].lower()\n",
    "            if pos in ['a','n','v']:\n",
    "                filtered.append(wnl.lemmatize(token,pos))\n",
    "            else:\n",
    "                filtered.append(wnl.lemmatize(token))\n",
    "    return filtered"
   ]
  },
  {
   "cell_type": "markdown",
   "metadata": {},
   "source": [
    "## جدا کردن داده به دسته های اسپم و غیر اسپم و ترین و تست به نسبت ۵ به ۱"
   ]
  },
  {
   "cell_type": "code",
   "execution_count": 3,
   "metadata": {},
   "outputs": [],
   "source": [
    "train_divide = 5/6\n",
    "_hams  = data[data.type ==  'ham'].reset_index(drop=True)\n",
    "_spams = data[data.type ==  'spam'].reset_index(drop=True)\n",
    "hams  = _hams.apply(lambda x: normalize(x['text']), axis=1)\n",
    "spams = _spams.apply(lambda x: normalize(x['text']), axis=1)\n",
    "hams_train  = hams.loc[:int(len(hams.index)*train_divide)]\n",
    "spams_train = spams.loc[:int(len(spams.index)*train_divide)]\n",
    "hams_test  = hams.loc[int(len(hams.index)*train_divide):]\n",
    "spams_test = spams.loc[int(len(spams.index)*train_divide):]"
   ]
  },
  {
   "cell_type": "markdown",
   "metadata": {},
   "source": [
    "# <font color='blue'>تعریف پارامتر بررسی اول : تعداد تکرار کلمات</font>"
   ]
  },
  {
   "cell_type": "markdown",
   "metadata": {},
   "source": [
    "در این پارامتر ما به احتمال اسپم بودن بر اساس کلمات حاضر در جمله می پردازیم\n",
    "ابتدا کلاس زیر را برای بررسی داده های ترین تعریف می کنیم"
   ]
  },
  {
   "cell_type": "code",
   "execution_count": 4,
   "metadata": {},
   "outputs": [],
   "source": [
    "class word_counter:\n",
    "    def __init__(self):\n",
    "        self.dic = {}\n",
    "    def add_spam(self,msg):\n",
    "        for word in msg:\n",
    "            if word in self.dic:\n",
    "                self.dic[word][1] += 1\n",
    "            else:\n",
    "                self.dic[word] = [0,1]\n",
    "    def add_ham(self,msg):\n",
    "        for word in msg:\n",
    "            if word in self.dic:\n",
    "                self.dic[word][0] += 1\n",
    "            else:\n",
    "                self.dic[word] = [1,0]\n",
    "    def divide_spam(self,length):\n",
    "        self.sl = length\n",
    "    def divide_ham(self,length):\n",
    "        self.hl = length\n",
    "    def get_probability(self,word):\n",
    "        if word in self.dic:\n",
    "            return self.dic[word]\n",
    "        return 1,1\n",
    "    def get_ham_probability(self,msg):\n",
    "        ham = 1\n",
    "        spam = 1\n",
    "        for word in msg:\n",
    "            res = self.get_probability(word)\n",
    "            if res[0]+res[1] > ((self.sl+self.hl)/1000):\n",
    "                if res[0] == 0:\n",
    "                    res[0] = 0.01\n",
    "                if res[1] == 0:\n",
    "                    res[1] = 0.01\n",
    "                ham += math.log(res[0],10)-math.log(self.hl,10)\n",
    "                spam += math.log(res[1],10)-math.log(self.sl,10)\n",
    "        return 10**ham/(10**ham+10**spam)\n",
    "    def get_diffrence_array(self):\n",
    "        ret = []\n",
    "        for word in self.dic:\n",
    "            ret.append(self.dic[word][0] - self.dic[word][1])\n",
    "        return ret"
   ]
  },
  {
   "cell_type": "markdown",
   "metadata": {},
   "source": [
    "داده های ترین را بررسی میکنیم"
   ]
  },
  {
   "cell_type": "code",
   "execution_count": 5,
   "metadata": {
    "scrolled": true
   },
   "outputs": [],
   "source": [
    "list_counter = word_counter()\n",
    "hams_train.apply(lambda x: list_counter.add_ham(x))\n",
    "spams_train.apply(lambda x: list_counter.add_spam(x))\n",
    "\n",
    "list_counter.divide_ham(len(hams_train.index))\n",
    "list_counter.divide_spam(len(spams_train.index))"
   ]
  },
  {
   "cell_type": "markdown",
   "metadata": {},
   "source": [
    "بررسی می کنیم که آیا این پارامتر پارامتر خوبی برای بررسی هست یا خیر\n",
    "همانطور که مشاهده می شود ۹۵ کلمه اختلاف زیادی بین تعدادشان در هم ها و اسپم ها موجود است که مقدار تفاوت آنها رو می توان در هیستگورام مشاهده کرد "
   ]
  },
  {
   "cell_type": "code",
   "execution_count": 6,
   "metadata": {},
   "outputs": [
    {
     "name": "stdout",
     "output_type": "stream",
     "text": [
      "word count: 95\n"
     ]
    },
    {
     "data": {
      "image/png": "[encoded data removed]",
      "text/plain": [
       "<Figure size 432x288 with 1 Axes>"
      ]
     },
     "metadata": {
      "needs_background": "light"
     },
     "output_type": "display_data"
    }
   ],
   "source": [
    "a = pd.Series(list_counter.get_diffrence_array())\n",
    "a = a[abs(a)>50].abs()\n",
    "a.hist(bins=10)\n",
    "print(\"word count: \" + str(len(a.index)))"
   ]
  },
  {
   "cell_type": "markdown",
   "metadata": {},
   "source": [
    "## تست عملکرد پارامتر تکرار"
   ]
  },
  {
   "cell_type": "markdown",
   "metadata": {},
   "source": [
    "حال بیایید عملکرد الگوریتم را تا اینجای کار تست کنیم\n",
    "همانطور که مشاهده می شود علمکرد قابل قبولی در بخش اکیوریت و ریکال دارد هر چند پرسیژن آن پایین است"
   ]
  },
  {
   "cell_type": "code",
   "execution_count": 7,
   "metadata": {},
   "outputs": [
    {
     "name": "stdout",
     "output_type": "stream",
     "text": [
      "Test stat so far:\n",
      "Hams test data:\n",
      "ham: 674 spam: 59\n",
      "Spams test data:\n",
      "ham: 0 spam: 113\n",
      "Recall = 1.0\n",
      "Precision = 0.6569767441860465\n",
      "Accuracy = 0.9302600472813238\n"
     ]
    }
   ],
   "source": [
    "def print_stat(spams_counter,hams_counter,print_count = True):\n",
    "    if print_count:\n",
    "        print(\"Hams test data:\")\n",
    "        hams_counter.print_all()\n",
    "        print(\"Spams test data:\")\n",
    "        spams_counter.print_all()\n",
    "    print(\"Recall = \" + str(spams_counter.s/(spams_counter.s+spams_counter.h)))\n",
    "    print(\"Precision = \" + str(spams_counter.s/(spams_counter.s+hams_counter.s)))\n",
    "    print(\"Accuracy = \" + str((spams_counter.s + hams_counter.h)/((hams_counter.s + hams_counter.h)+(spams_counter.s + spams_counter.h))))\n",
    "def get_ham_or_spam(probe):\n",
    "    if(probe >= 0.5):\n",
    "        return 'ham'\n",
    "    else:\n",
    "        return 'spam'\n",
    "class check_counter:\n",
    "    def __init__(self):\n",
    "        self.h = 0\n",
    "        self.s = 0\n",
    "    def add_state(self,x):\n",
    "        if(x == 'ham'):\n",
    "            self.h+=1\n",
    "        else:\n",
    "            self.s+=1\n",
    "    def print_all(self):\n",
    "        print (\"ham: {} spam: {}\".format(self.h,self.s))\n",
    "hams_counter = check_counter()\n",
    "hams_test.apply(lambda x:hams_counter.add_state(get_ham_or_spam(list_counter.get_ham_probability(x))))\n",
    "spams_counter = check_counter()\n",
    "spams_test.apply(lambda x:spams_counter.add_state(list_counter.get_ham_probability(x)))\n",
    "print(\"Test stat so far:\")\n",
    "print_stat(spams_counter,hams_counter)"
   ]
  },
  {
   "cell_type": "markdown",
   "metadata": {},
   "source": [
    "# <font color='blue'>تعریف پارامتر بررسی دوم : طول جمله</font>"
   ]
  },
  {
   "cell_type": "markdown",
   "metadata": {},
   "source": [
    "ابتدا لیستی از طول جملات می سازیم"
   ]
  },
  {
   "cell_type": "code",
   "execution_count": 8,
   "metadata": {},
   "outputs": [],
   "source": [
    "hams_train_length  = hams_train.apply(lambda x: len(x))\n",
    "spams_train_length = spams_train.apply(lambda x: len(x))"
   ]
  },
  {
   "cell_type": "markdown",
   "metadata": {},
   "source": [
    "## بررسی نموداری پارامتر طول "
   ]
  },
  {
   "cell_type": "markdown",
   "metadata": {},
   "source": [
    "همانطور که مشاهده میشود اکثر اسپمها طولی حدود بیست و اکثر هم ها طولی حدود ۵ دارن پس می توان گفت پارامتر خوبی برای تشخیص است"
   ]
  },
  {
   "cell_type": "code",
   "execution_count": 9,
   "metadata": {},
   "outputs": [
    {
     "data": {
      "image/png": "[encoded data removed]",
      "text/plain": [
       "<Figure size 432x288 with 2 Axes>"
      ]
     },
     "metadata": {
      "needs_background": "light"
     },
     "output_type": "display_data"
    }
   ],
   "source": [
    "fig=plt.figure()\n",
    "ax1 = plt.subplot(211)\n",
    "ax2 = plt.subplot(212)\n",
    "hams_train_length.hist(bins = 30,ax = ax1,rwidth = 80,range = (0,40))\n",
    "spams_train_length.hist(bins = 30,ax =ax2,color = 'orange',rwidth = 80,range = (0,40))\n",
    "\n",
    "plt.show()"
   ]
  },
  {
   "cell_type": "markdown",
   "metadata": {},
   "source": [
    "مقدار میانگین و انحراف از معیار هر یک را محاسبه می کنیم"
   ]
  },
  {
   "cell_type": "code",
   "execution_count": 10,
   "metadata": {},
   "outputs": [],
   "source": [
    "hams_stat  = hams_train_length.mean(),hams_train_length.std()\n",
    "spams_stat = spams_train_length.mean(),spams_train_length.std()"
   ]
  },
  {
   "cell_type": "markdown",
   "metadata": {},
   "source": [
    "تابع کلک پروب را برای محاسبه از ترکیب پارامتر اول و دوم تعریف می کنیم"
   ]
  },
  {
   "cell_type": "code",
   "execution_count": 11,
   "metadata": {},
   "outputs": [],
   "source": [
    "def cacl_traz(inp,stat):\n",
    "    return abs(inp - stat[0])/stat[1]\n",
    "def calc_ham_length_probability(length):\n",
    "    ht = cacl_traz(length,hams_stat)\n",
    "    st = cacl_traz(length,spams_stat)\n",
    "    return (st)/(ht+st)\n",
    "def calc_probe(x):\n",
    "    length_ham_probability = math.log(calc_ham_length_probability(len(x)),10)/20\n",
    "    lc_ham_probability     = math.log(list_counter.get_ham_probability(x),10)\n",
    "    ham_probe = 10**(length_ham_probability+lc_ham_probability)\n",
    "    spam_probe = (1-10**length_ham_probability)*(1-10**lc_ham_probability)\n",
    "    if ham_probe >= spam_probe:\n",
    "        return 'ham'\n",
    "    else:\n",
    "        return 'spam'"
   ]
  },
  {
   "cell_type": "markdown",
   "metadata": {},
   "source": [
    "# <font color='blue'>جواب نهایی</font>"
   ]
  },
  {
   "cell_type": "markdown",
   "metadata": {},
   "source": [
    "و حال داده ها دوباره تست می کنیم همانطور که مشاهده میشود بهبود قابل ملاحظه ای در اعداد رخ داده است و فقط ۱۱ جواب اشتباه داشتیم"
   ]
  },
  {
   "cell_type": "code",
   "execution_count": 12,
   "metadata": {},
   "outputs": [
    {
     "name": "stdout",
     "output_type": "stream",
     "text": [
      "Final test\n",
      "Hams test data:\n",
      "ham: 727 spam: 6\n",
      "Spams test data:\n",
      "ham: 5 spam: 108\n",
      "Recall = 0.9557522123893806\n",
      "Precision = 0.9473684210526315\n",
      "Accuracy = 0.9869976359338062\n"
     ]
    }
   ],
   "source": [
    "hams_counter = check_counter()\n",
    "hams_test.apply(lambda x:hams_counter.add_state(calc_probe(x)))\n",
    "spams_counter = check_counter()\n",
    "spams_test.apply(lambda x:spams_counter.add_state(calc_probe(x)))\n",
    "print(\"Final test\")\n",
    "print_stat(spams_counter,hams_counter)"
   ]
  },
  {
   "cell_type": "markdown",
   "metadata": {},
   "source": [
    "# <font color='blue'>بررسی اورفیت</font>"
   ]
  },
  {
   "cell_type": "markdown",
   "metadata": {},
   "source": [
    "اورفیت پدیده ای است که داده ما فقط در ازای داده ترین جواب خوب می دهد و در غیر این صورت  خلاف این رفتار می کند\n",
    "در واقع نویز درون داده هم روی ترین آن تاثیر گذاشته است\n",
    "ما می  توانیم با مقایسه عملکرد الگرویتم در ازای داده ترین و مقایسه آن با داده تست متوجه شویم اورفیت رخ داده است یا نه که همانطور که مشاهده میشود نتایج آن نزدیک به حالت داده تست است"
   ]
  },
  {
   "cell_type": "code",
   "execution_count": 13,
   "metadata": {},
   "outputs": [
    {
     "name": "stdout",
     "output_type": "stream",
     "text": [
      "Test train_data for overfit purpose\n",
      "Recall = 0.9680851063829787\n",
      "Precision = 0.9528795811518325\n",
      "Accuracy = 0.989356669820246\n"
     ]
    }
   ],
   "source": [
    "print(\"Test train_data for overfit purpose\")\n",
    "hams_counter = check_counter()\n",
    "spams_counter = check_counter()\n",
    "hams_train.apply(lambda x:hams_counter.add_state(calc_probe(x)))\n",
    "spams_train.apply(lambda x:spams_counter.add_state(calc_probe(x)))\n",
    "print_stat(spams_counter,hams_counter,False)"
   ]
  },
  {
   "cell_type": "markdown",
   "metadata": {},
   "source": [
    "# <font color='blue'>تولید خروجی نهایی</font>"
   ]
  },
  {
   "cell_type": "code",
   "execution_count": 14,
   "metadata": {},
   "outputs": [],
   "source": [
    "test_data = pd.read_csv('evaluate.csv')\n",
    "test_data['text'] = test_data['text'].apply(lambda x:calc_probe(normalize(x)))\n",
    "test_data.columns = ['id','type']\n",
    "test_data.to_csv('output.csv',index=False)"
   ]
  }
 ],
 "metadata": {
  "kernelspec": {
   "display_name": "Python 3",
   "language": "python",
   "name": "python3"
  },
  "language_info": {
   "codemirror_mode": {
    "name": "ipython",
    "version": 3
   },
   "file_extension": ".py",
   "mimetype": "text/x-python",
   "name": "python",
   "nbconvert_exporter": "python",
   "pygments_lexer": "ipython3",
   "version": "3.7.1"
  }
 },
 "nbformat": 4,
 "nbformat_minor": 2
}
