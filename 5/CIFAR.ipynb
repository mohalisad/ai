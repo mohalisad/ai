{
 "cells": [
  {
   "cell_type": "code",
   "execution_count": 1,
   "metadata": {},
   "outputs": [
    {
     "data": {
      "text/html": [
       "<style>@font-face{font-family:Vazir;src:url(Vazir.eot);src:url(Vazir.eot?#iefix) format(\"embedded-opentype\"),url(Vazir.woff2) format(\"woff2\"),url(Vazir.woff) format(\"woff\"),url(Vazir.ttf) format(\"truetype\");font-weight:400;font-style:normal}.farsi{font-family:Vazir;direction:rtl}.center{text-align:center}.justify{text-align:justify}.blue{color:blue}.green{color:green}</style>\n"
      ],
      "text/plain": [
       "<IPython.core.display.HTML object>"
      ]
     },
     "metadata": {},
     "output_type": "display_data"
    }
   ],
   "source": [
    "%%html\n",
    "<style>@font-face{font-family:Vazir;src:url(Vazir.eot);src:url(Vazir.eot?#iefix) format(\"embedded-opentype\"),url(Vazir.woff2) format(\"woff2\"),url(Vazir.woff) format(\"woff\"),url(Vazir.ttf) format(\"truetype\");font-weight:400;font-style:normal}.farsi{font-family:Vazir;direction:rtl}.center{text-align:center}.justify{text-align:justify}.blue{color:blue}.green{color:green}</style>"
   ]
  },
  {
   "cell_type": "markdown",
   "metadata": {},
   "source": [
    "# <div class = \"farsi center green\">بسم الله الرحمن الرحیم</div>"
   ]
  },
  {
   "cell_type": "markdown",
   "metadata": {},
   "source": [
    "## <div class = \"farsi center blue\">خواندن از فایل‌های ورودی</div>"
   ]
  },
  {
   "cell_type": "code",
   "execution_count": 2,
   "metadata": {},
   "outputs": [
    {
     "name": "stdout",
     "output_type": "stream",
     "text": [
      "loading........done\n"
     ]
    }
   ],
   "source": [
    "import pandas as pd\n",
    "import numpy as np\n",
    "\n",
    "CIFAR_LENGTH  = 32\n",
    "\n",
    "train_data    = pd.read_csv('CIFAR10/CIFAR10_train_data.csv' ,header=None)\n",
    "train_label   = pd.read_csv('CIFAR10/CIFAR10_train_label.csv',header=None)\n",
    "test_data     = pd.read_csv('CIFAR10/CIFAR10_val_data.csv'   ,header=None)\n",
    "test_label    = pd.read_csv('CIFAR10/CIFAR10_val_label.csv'  ,header=None)\n",
    "\n",
    "classes = list(set(train_label[0].values))\n",
    "\n",
    "train_data['labels'] = train_label[0].apply(lambda x:classes.index(x))\n",
    "test_data['labels']  = test_label[0].apply(lambda x:classes.index(x))\n",
    "\n",
    "print('loading........done')"
   ]
  },
  {
   "cell_type": "markdown",
   "metadata": {},
   "source": [
    "## <div class = \"farsi center blue\">استفاده از cuda در صورت وجود</div>"
   ]
  },
  {
   "cell_type": "code",
   "execution_count": 3,
   "metadata": {},
   "outputs": [
    {
     "name": "stdout",
     "output_type": "stream",
     "text": [
      "calc device is cuda\n"
     ]
    }
   ],
   "source": [
    "import torch\n",
    "calc_device = torch.device(\"cuda\" if torch.cuda.is_available() else \"cpu\")\n",
    "print(\"calc device is %s\" % calc_device)"
   ]
  },
  {
   "cell_type": "markdown",
   "metadata": {},
   "source": [
    "## <div class = \"farsi center blue\">آماده سازی داده‌ها با batch_size = 32</div>"
   ]
  },
  {
   "cell_type": "code",
   "execution_count": 4,
   "metadata": {},
   "outputs": [],
   "source": [
    "from PIL import Image\n",
    "import torchvision.transforms as transforms\n",
    "\n",
    "transform = transforms.ToTensor()\n",
    "\n",
    "def vec_to_img(img_vec):\n",
    "    img_vec = img_vec.astype(np.uint8)\n",
    "    img_arr = np.asarray(img_vec).reshape((CIFAR_LENGTH,CIFAR_LENGTH,3))\n",
    "    return Image.fromarray(img_arr, 'RGB')\n",
    "\n",
    "trainset    = train_data.apply(lambda x:(transform(vec_to_img(x[:-1])),x['labels']),axis = 1)\n",
    "train_bs32  = torch.utils.data.DataLoader(trainset, batch_size=32)\n",
    "testset     = test_data.apply(lambda x:(transform(vec_to_img(x[:-1])),x['labels']),axis = 1)\n",
    "test_bs32   = torch.utils.data.DataLoader(testset, batch_size=32)"
   ]
  },
  {
   "cell_type": "markdown",
   "metadata": {},
   "source": [
    "## <div class = \"farsi center blue\">تعریف توابع train و test شبکه</div>"
   ]
  },
  {
   "cell_type": "code",
   "execution_count": 5,
   "metadata": {},
   "outputs": [],
   "source": [
    "import time\n",
    "import torch.optim as optim\n",
    "\n",
    "def train_net(net,traindata = train_bs32,custom_optimizer = None,losses_mode = False):\n",
    "    criterion = nn.CrossEntropyLoss()\n",
    "    optimizer = optim.SGD(net.parameters(), lr=0.001, momentum=0.9) if custom_optimizer is None else custom_optimizer\n",
    "    losses = []\n",
    "    for epoch in range(5):\n",
    "        for i, data in enumerate(traindata, 0):\n",
    "            inputs, labels = data[0].to(calc_device), data[1].to(calc_device)\n",
    "            optimizer.zero_grad()\n",
    "            outputs = net(inputs)\n",
    "            loss = criterion(outputs, labels)\n",
    "            loss.backward()\n",
    "            optimizer.step()\n",
    "            if losses_mode:\n",
    "                losses.append(loss.item())\n",
    "    return losses\n",
    "\n",
    "def test_net(net,testdata = test_bs32):\n",
    "    correct = 0\n",
    "    total = 0\n",
    "    with torch.no_grad():\n",
    "        for data in testdata:\n",
    "            images, labels =  data[0].to(calc_device), data[1].to(calc_device)\n",
    "            outputs = net(images)\n",
    "            _, predicted = torch.max(outputs.data, 1)\n",
    "            total += labels.size(0)\n",
    "            correct += (predicted == labels).sum().item()\n",
    "    return 100 * correct / total\n",
    "    \n",
    "def train_and_test_net(net,traindata = train_bs32,testdata = test_bs32,custom_optimizer = None,losses_mode = False):\n",
    "    t = time.time()\n",
    "    losses = train_net(net,traindata,custom_optimizer,losses_mode)\n",
    "    elapsed = time.time() - t\n",
    "    if losses_mode:\n",
    "        return test_net(net,testdata),elapsed,losses\n",
    "    return test_net(net,testdata),elapsed"
   ]
  },
  {
   "cell_type": "markdown",
   "metadata": {},
   "source": [
    "# <div class = \"farsi center green\">سوال ۱</div>"
   ]
  },
  {
   "cell_type": "markdown",
   "metadata": {},
   "source": [
    "## <div class = \"farsi center blue\">تعریف شبکه سوال یک</div>"
   ]
  },
  {
   "cell_type": "code",
   "execution_count": 6,
   "metadata": {},
   "outputs": [],
   "source": [
    "import torch.nn as nn\n",
    "import torch.nn.functional as nnf\n",
    "\n",
    "class NetQ1(nn.Module):\n",
    "    def __init__(self,random = False,activation = nnf.relu):\n",
    "        super(NetQ1, self).__init__()\n",
    "        \n",
    "        self.activation = activation\n",
    "        \n",
    "        self.layer1 = nn.Conv2d(3, 18, 5)\n",
    "        self.layer2 = nn.Conv2d(18,300, 9)\n",
    "        self.ol_size = 300 * 20 * 20\n",
    "        self.outputlayer = nn.Linear(self.ol_size, 10)\n",
    "        if not random:\n",
    "            self.layer1.weight.data.fill_(0)\n",
    "            self.layer2.weight.data.fill_(0)\n",
    "            self.outputlayer.weight.data.fill_(0)\n",
    "\n",
    "        self.to(device = calc_device)\n",
    "    def forward(self, x):\n",
    "        x = self.activation(self.layer1(x))\n",
    "        x = self.activation(self.layer2(x))\n",
    "        x = x.view(-1, self.ol_size)\n",
    "        x = self.outputlayer(x)\n",
    "        return x"
   ]
  },
  {
   "cell_type": "markdown",
   "metadata": {},
   "source": [
    "## <div class = \"farsi center blue\">بررسی شبکه در حالت وزن عادی و رندوم</div>"
   ]
  },
  {
   "cell_type": "code",
   "execution_count": 7,
   "metadata": {},
   "outputs": [
    {
     "name": "stdout",
     "output_type": "stream",
     "text": [
      "Accuracy of zero_net is 47 % in 82 seconds\n",
      "Accuracy of random_net is 64 % in 82 seconds\n"
     ]
    }
   ],
   "source": [
    "zero_net = NetQ1()\n",
    "random_net = NetQ1(random = True)\n",
    "print(\"Accuracy of zero_net is %d %% in %d seconds\" % train_and_test_net(zero_net))\n",
    "print(\"Accuracy of random_net is %d %% in %d seconds\" % train_and_test_net(random_net))"
   ]
  },
  {
   "cell_type": "markdown",
   "metadata": {},
   "source": [
    "<div class=\"farsi justify\">\n",
    "    همانطور که مشاهده می‌شود در حالتی که وزن رندوم داده شده است دقت شبکه حدود ۱۰ درصد است که این مقدار دقت دقتی است که در حالت شانسی پاسخ دادن تولید می‌شود. که در واقع در حالت رندوم پاسخ درست نمی‌دهد.\n",
    "</div>"
   ]
  },
  {
   "cell_type": "markdown",
   "metadata": {},
   "source": [
    "# <div class = \"farsi center green\">سوال ۲</div>"
   ]
  },
  {
   "cell_type": "markdown",
   "metadata": {},
   "source": [
    "## <div class = \"farsi center blue\">تعریف شبکه سوال دو</div>"
   ]
  },
  {
   "cell_type": "code",
   "execution_count": 8,
   "metadata": {},
   "outputs": [],
   "source": [
    "import torch.nn as nn\n",
    "import torch.nn.functional as nnf\n",
    "\n",
    "class NetQ2(nn.Module):\n",
    "    def __init__(self,random = False):\n",
    "        super(NetQ2, self).__init__()\n",
    "        \n",
    "        self.activation = nnf.relu\n",
    "        self.layer1 = nn.Conv2d(3, 15, 5)\n",
    "        self.ol_size = 15*28*28\n",
    "        self.outputlayer = nn.Linear(self.ol_size, 10)\n",
    "        if not random:    \n",
    "            self.layer1.weight.data.fill_(0)\n",
    "            self.outputlayer.weight.data.fill_(0)\n",
    "        self.to(device = calc_device)\n",
    "    def forward(self, x):\n",
    "        x = self.activation(self.layer1(x))\n",
    "        x = x.view(-1, self.ol_size)\n",
    "        x = self.outputlayer(x)\n",
    "        return x"
   ]
  },
  {
   "cell_type": "markdown",
   "metadata": {},
   "source": [
    "## <div class = \"farsi center blue\">بررسی شبکه در حالت وزن عادی و رندوم</div>"
   ]
  },
  {
   "cell_type": "code",
   "execution_count": 9,
   "metadata": {},
   "outputs": [
    {
     "name": "stdout",
     "output_type": "stream",
     "text": [
      "Accuracy of zero_net is 48 % in 7 seconds\n",
      "Accuracy of random_net is 56 % in 7 seconds\n"
     ]
    }
   ],
   "source": [
    "normal_net = NetQ2()\n",
    "random_net = NetQ2(random = True)\n",
    "print(\"Accuracy of zero_net is %d %% in %d seconds\" % train_and_test_net(normal_net))\n",
    "print(\"Accuracy of random_net is %d %% in %d seconds\" % train_and_test_net(random_net))"
   ]
  },
  {
   "cell_type": "markdown",
   "metadata": {},
   "source": [
    "<div class=\"farsi justify\">\n",
    "    نتیجه مانند سوال یک است فقط چون با دو لایه است دقت آن کمتر است.\n",
    "</div>"
   ]
  },
  {
   "cell_type": "markdown",
   "metadata": {},
   "source": [
    "# <div class = \"farsi center green\">سوال ۳</div>"
   ]
  },
  {
   "cell_type": "code",
   "execution_count": 10,
   "metadata": {},
   "outputs": [],
   "source": [
    "transformQ3   = transforms.Compose([transforms.ToTensor(),transforms.Normalize((0.5, 0.5, 0.5), (0.5, 0.5, 0.5))])\n",
    "trainsetQ3    = train_data.apply(lambda x:(transformQ3(vec_to_img(x[:-1])),x['labels']),axis = 1)\n",
    "trainQ3_bs32  = torch.utils.data.DataLoader(trainsetQ3, batch_size=32)\n",
    "testsetQ3     = test_data.apply(lambda x:(transformQ3(vec_to_img(x[:-1])),x['labels']),axis = 1)\n",
    "testQ3_bs32   = torch.utils.data.DataLoader(testsetQ3, batch_size=32)"
   ]
  },
  {
   "cell_type": "code",
   "execution_count": 11,
   "metadata": {},
   "outputs": [
    {
     "name": "stdout",
     "output_type": "stream",
     "text": [
      "Accuracy of zero_net is 53 % in 82 seconds\n",
      "Accuracy of random_net is 68 % in 82 seconds\n"
     ]
    }
   ],
   "source": [
    "normal_net = NetQ1()\n",
    "random_net = NetQ1(random = True)\n",
    "print(\"Accuracy of zero_net is %d %% in %d seconds\" % train_and_test_net(normal_net,traindata = trainQ3_bs32,testdata = testQ3_bs32))\n",
    "print(\"Accuracy of random_net is %d %% in %d seconds\" % train_and_test_net(random_net,traindata = trainQ3_bs32,testdata = testQ3_bs32))"
   ]
  },
  {
   "cell_type": "markdown",
   "metadata": {},
   "source": [
    "<div class=\"farsi justify\">\n",
    "    با دقت اندکی بیشتر و در زمان مشابه با سوال یک جواب رسید. علت تاثیر ندادن لیبل این است که داده‌ها باید به طور یکسان تحت تبدیل واقع شوند.\n",
    "    علت افزایش اندک دقت نیز کم شدن نویز در داده است.\n",
    "</div>"
   ]
  },
  {
   "cell_type": "markdown",
   "metadata": {},
   "source": [
    "# <div class = \"farsi center green\">سوال ۴</div>"
   ]
  },
  {
   "cell_type": "code",
   "execution_count": 12,
   "metadata": {},
   "outputs": [
    {
     "name": "stdout",
     "output_type": "stream",
     "text": [
      "done\n"
     ]
    }
   ],
   "source": [
    "import matplotlib.pylab as plt\n",
    "\n",
    "results = {}\n",
    "for lr in[0.1,0.001,0.00001]:\n",
    "    normal_net = NetQ1(random = True)\n",
    "    optimizer = optim.SGD(normal_net.parameters(), lr=lr, momentum=0.9)\n",
    "    results[lr] = train_and_test_net(normal_net,traindata = trainQ3_bs32,testdata = testQ3_bs32,custom_optimizer = optimizer,losses_mode = True)\n",
    "print('done')"
   ]
  },
  {
   "cell_type": "code",
   "execution_count": 13,
   "metadata": {},
   "outputs": [
    {
     "name": "stdout",
     "output_type": "stream",
     "text": [
      "For lr=0.100000 accuracy is 7 % in 86 seconds\n"
     ]
    },
    {
     "data": {
      "image/png": "[encoded data removed]",
      "text/plain": [
       "<Figure size 432x288 with 1 Axes>"
      ]
     },
     "metadata": {
      "needs_background": "light"
     },
     "output_type": "display_data"
    }
   ],
   "source": [
    "lr = 0.1\n",
    "print(\"For lr=%f accuracy is %d %% in %d seconds\"%tuple([lr]+list(results[lr][:2])))\n",
    "plt.plot(results[lr][2])\n",
    "plt.show()"
   ]
  },
  {
   "cell_type": "code",
   "execution_count": 14,
   "metadata": {},
   "outputs": [
    {
     "name": "stdout",
     "output_type": "stream",
     "text": [
      "For lr=0.001000 accuracy is 65 % in 87 seconds\n"
     ]
    },
    {
     "data": {
      "image/png": "[encoded data removed]",
      "text/plain": [
       "<Figure size 432x288 with 1 Axes>"
      ]
     },
     "metadata": {
      "needs_background": "light"
     },
     "output_type": "display_data"
    }
   ],
   "source": [
    "lr = 0.001\n",
    "print(\"For lr=%f accuracy is %d %% in %d seconds\"%tuple([lr]+list(results[lr][:2])))\n",
    "plt.plot(results[lr][2])\n",
    "plt.show()"
   ]
  },
  {
   "cell_type": "code",
   "execution_count": 15,
   "metadata": {},
   "outputs": [
    {
     "name": "stdout",
     "output_type": "stream",
     "text": [
      "For lr=0.000010 accuracy is 37 % in 89 seconds\n"
     ]
    },
    {
     "data": {
      "image/png": "[encoded data removed]",
      "text/plain": [
       "<Figure size 432x288 with 1 Axes>"
      ]
     },
     "metadata": {
      "needs_background": "light"
     },
     "output_type": "display_data"
    }
   ],
   "source": [
    "lr = 0.00001\n",
    "print(\"For lr=%f accuracy is %d %% in %d seconds\"%tuple([lr]+list(results[lr][:2])))\n",
    "plt.plot(results[lr][2])\n",
    "plt.show()"
   ]
  },
  {
   "cell_type": "markdown",
   "metadata": {},
   "source": [
    "# <div class = \"farsi center green\">سوال ۵</div>"
   ]
  },
  {
   "cell_type": "code",
   "execution_count": 16,
   "metadata": {},
   "outputs": [
    {
     "name": "stdout",
     "output_type": "stream",
     "text": [
      "Accuracy of bs=64 is 62 % in 79 seconds\n"
     ]
    }
   ],
   "source": [
    "trainQ3_bs64  = torch.utils.data.DataLoader(trainsetQ3, batch_size=64)\n",
    "testQ3_bs64   = torch.utils.data.DataLoader(testsetQ3, batch_size=64)\n",
    "net = NetQ1(random = True)\n",
    "print(\"Accuracy of bs=64 is %d %% in %d seconds\" % train_and_test_net(net,traindata = trainQ3_bs64,testdata = testQ3_bs64))"
   ]
  },
  {
   "cell_type": "code",
   "execution_count": 17,
   "metadata": {},
   "outputs": [
    {
     "name": "stdout",
     "output_type": "stream",
     "text": [
      "Accuracy of bs=256 is 55 % in 74 seconds\n"
     ]
    }
   ],
   "source": [
    "trainQ3_bs256  = torch.utils.data.DataLoader(trainsetQ3, batch_size=256)\n",
    "testQ3_bs256   = torch.utils.data.DataLoader(testsetQ3, batch_size=256)\n",
    "net = NetQ1(random = True)\n",
    "print(\"Accuracy of bs=256 is %d %% in %d seconds\" % train_and_test_net(net,traindata = trainQ3_bs256,testdata = testQ3_bs256))"
   ]
  },
  {
   "cell_type": "markdown",
   "metadata": {},
   "source": [
    "# <div class = \"farsi center green\">سوال ۶</div>"
   ]
  },
  {
   "cell_type": "code",
   "execution_count": 18,
   "metadata": {},
   "outputs": [
    {
     "name": "stdout",
     "output_type": "stream",
     "text": [
      "Accuracy of relu_net is 65 % in 83 seconds\n",
      "Accuracy of leaky_relu_net is 68 % in 84 seconds\n",
      "Accuracy of softplus_net is 42 % in 83 seconds\n",
      "Accuracy of tanh_net is 42 % in 83 seconds\n"
     ]
    }
   ],
   "source": [
    "relu_net       = NetQ1(activation = nnf.relu,random = True)\n",
    "leaky_relu_net = NetQ1(activation = nnf.leaky_relu,random = True)\n",
    "softplus_net   = NetQ1(activation = nnf.softplus,random = True)\n",
    "tanh_net       = NetQ1(activation = nnf.tanh,random = True)\n",
    "print(\"Accuracy of relu_net is %d %% in %d seconds\" % train_and_test_net(relu_net,traindata = trainQ3_bs32,testdata = testQ3_bs32))\n",
    "print(\"Accuracy of leaky_relu_net is %d %% in %d seconds\" % train_and_test_net(leaky_relu_net,traindata = trainQ3_bs32,testdata = testQ3_bs32))\n",
    "print(\"Accuracy of softplus_net is %d %% in %d seconds\" % train_and_test_net(softplus_net,traindata = trainQ3_bs32,testdata = testQ3_bs32))\n",
    "print(\"Accuracy of tanh_net is %d %% in %d seconds\" % train_and_test_net(tanh_net,traindata = trainQ3_bs32,testdata = testQ3_bs32))"
   ]
  },
  {
   "cell_type": "markdown",
   "metadata": {},
   "source": [
    "# <div class = \"farsi center green\">سوال ۷</div>"
   ]
  },
  {
   "cell_type": "code",
   "execution_count": 19,
   "metadata": {},
   "outputs": [
    {
     "name": "stdout",
     "output_type": "stream",
     "text": [
      "Accuracy of leaky_relu with momentum is 67 % in 83 seconds\n",
      "Accuracy of leaky_relu without momentum is 53 % in 82 seconds\n"
     ]
    }
   ],
   "source": [
    "momentum_net = NetQ1(activation = nnf.leaky_relu,random = True)\n",
    "optimizer = optim.SGD(momentum_net.parameters(), lr=0.001, momentum=0.9)\n",
    "print(\"Accuracy of leaky_relu with momentum is %d %% in %d seconds\" % train_and_test_net(momentum_net,traindata = trainQ3_bs32,testdata = testQ3_bs32,custom_optimizer = optimizer))\n",
    "without_momentum_net = NetQ1(activation = nnf.leaky_relu,random = True)\n",
    "optimizer = optim.SGD(without_momentum_net.parameters(), lr=0.001)\n",
    "print(\"Accuracy of leaky_relu without momentum is %d %% in %d seconds\" % train_and_test_net(without_momentum_net,traindata = trainQ3_bs32,testdata = testQ3_bs32,custom_optimizer = optimizer))"
   ]
  }
 ],
 "metadata": {
  "kernelspec": {
   "display_name": "Python 3",
   "language": "python",
   "name": "python3"
  },
  "language_info": {
   "codemirror_mode": {
    "name": "ipython",
    "version": 3
   },
   "file_extension": ".py",
   "mimetype": "text/x-python",
   "name": "python",
   "nbconvert_exporter": "python",
   "pygments_lexer": "ipython3",
   "version": "3.7.3"
  }
 },
 "nbformat": 4,
 "nbformat_minor": 2
}
