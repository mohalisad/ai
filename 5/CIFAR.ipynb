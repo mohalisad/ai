{
 "cells": [
  {
   "cell_type": "code",
   "execution_count": 1,
   "metadata": {},
   "outputs": [
    {
     "data": {
      "text/html": [
       "<style>@font-face{font-family:Vazir;src:url(Vazir.eot);src:url(Vazir.eot?#iefix) format(\"embedded-opentype\"),url(Vazir.woff2) format(\"woff2\"),url(Vazir.woff) format(\"woff\"),url(Vazir.ttf) format(\"truetype\");font-weight:400;font-style:normal}.farsi{font-family:Vazir;direction:rtl}.center{text-align:center}.justify{text-align:justify}.blue{color:blue}</style>\n"
      ],
      "text/plain": [
       "<IPython.core.display.HTML object>"
      ]
     },
     "metadata": {},
     "output_type": "display_data"
    }
   ],
   "source": [
    "%%html\n",
    "<style>@font-face{font-family:Vazir;src:url(Vazir.eot);src:url(Vazir.eot?#iefix) format(\"embedded-opentype\"),url(Vazir.woff2) format(\"woff2\"),url(Vazir.woff) format(\"woff\"),url(Vazir.ttf) format(\"truetype\");font-weight:400;font-style:normal}.farsi{font-family:Vazir;direction:rtl}.center{text-align:center}.justify{text-align:justify}.blue{color:blue}</style>"
   ]
  },
  {
   "cell_type": "code",
   "execution_count": 2,
   "metadata": {},
   "outputs": [
    {
     "name": "stdout",
     "output_type": "stream",
     "text": [
      "loading........done\n"
     ]
    }
   ],
   "source": [
    "import pandas as pd\n",
    "import numpy as np\n",
    "\n",
    "CIFAR_LENGTH  = 32\n",
    "train_data    = pd.read_csv('CIFAR10/CIFAR10_train_data.csv' ,header=None)\n",
    "train_label   = pd.read_csv('CIFAR10/CIFAR10_train_label.csv',header=None)\n",
    "test_data     = pd.read_csv('CIFAR10/CIFAR10_val_data.csv'   ,header=None)\n",
    "test_label    = pd.read_csv('CIFAR10/CIFAR10_val_label.csv'  ,header=None)\n",
    "real_test     = pd.read_csv('CIFAR10/CIFAR10_test_data.csv'  ,header=None)\n",
    "np_test_label = np.array(test_label[0].values)\n",
    "print('loading........done')"
   ]
  },
  {
   "cell_type": "code",
   "execution_count": 3,
   "metadata": {},
   "outputs": [
    {
     "name": "stdout",
     "output_type": "stream",
     "text": [
      "cuda\n"
     ]
    }
   ],
   "source": [
    "import torch\n",
    "calc_device = torch.device(\"cuda\" if torch.cuda.is_available() else \"cpu\")\n",
    "print(calc_device)"
   ]
  },
  {
   "cell_type": "code",
   "execution_count": 4,
   "metadata": {},
   "outputs": [],
   "source": [
    "from PIL import Image\n",
    "import torchvision.transforms as transforms\n",
    "\n",
    "bs = 32\n",
    "\n",
    "transform = transforms.Compose([transforms.ToTensor()])\n",
    "classes = list(set(train_label[0].values))\n",
    "train_data['labels'] = train_label[0].apply(lambda x:classes.index(x))\n",
    "test_data['labels']  = test_label[0].apply(lambda x:classes.index(x))\n",
    "\n",
    "def vec_to_img(img_vec):\n",
    "    img_vec = img_vec.astype(np.uint8)\n",
    "    img_arr = np.asarray(img_vec).reshape((CIFAR_LENGTH,CIFAR_LENGTH,3))\n",
    "    return Image.fromarray(img_arr, 'RGB')\n",
    "trainset = train_data.apply(lambda x:(transform(vec_to_img(x[:-1])),x['labels']),axis = 1)\n",
    "trainloader = torch.utils.data.DataLoader(trainset, batch_size=bs)\n",
    "testset  = test_data.apply(lambda x:(transform(vec_to_img(x[:-1])),x['labels']),axis = 1)\n",
    "testloader = torch.utils.data.DataLoader(testset, batch_size=bs)"
   ]
  },
  {
   "cell_type": "code",
   "execution_count": 64,
   "metadata": {},
   "outputs": [],
   "source": [
    "import torch.nn as nn\n",
    "import torch.nn.functional as nnf\n",
    "\n",
    "relu = nnf.relu\n",
    "\n",
    "# class Net(nn.Module):\n",
    "#     def __init__(self):\n",
    "#         super(Net, self).__init__()\n",
    "#         self.conv1 = nn.Conv2d(3, 6, 5)\n",
    "#         self.pool = nn.MaxPool2d(2, 2)\n",
    "#         self.conv2 = nn.Conv2d(6, 16, 5)\n",
    "#         self.fc1 = nn.Linear(16 * 5 * 5, 120)\n",
    "#         self.fc2 = nn.Linear(120, 84)\n",
    "#         self.fc3 = nn.Linear(84, 10)\n",
    "\n",
    "#     def forward(self, x):\n",
    "#         x = self.pool(F.relu(self.conv1(x)))\n",
    "#         x = self.pool(F.relu(self.conv2(x)))\n",
    "#         x = x.view(-1, 16 * 5 * 5)\n",
    "#         x = F.relu(self.fc1(x))\n",
    "#         x = F.relu(self.fc2(x))\n",
    "#         x = self.fc3(x)\n",
    "#         return x\n",
    "class Net(nn.Module):\n",
    "    def __init__(self):\n",
    "        super(Net, self).__init__()\n",
    "        self.layer1 = nn.Conv2d(3, 6, 5)\n",
    "        self.layer1.weight = torch.nn.Parameter(torch.randn(6,3,5,5))\n",
    "        self.layer2 = nn.Conv2d(6, 16, 5)\n",
    "        self.layer2.weight = torch.nn.Parameter(torch.randn(16,6,5,5))\n",
    "        self.layer3 = nn.Linear(16 * 24 * 24, 10)\n",
    "        self.layer3.weight = torch.nn.Parameter(torch.randn(10,16 * 24 * 24))\n",
    "    def forward(self, x):\n",
    "        x = relu(self.layer1(x))\n",
    "        x = relu(self.layer2(x))\n",
    "        x = x.view(-1, 16 * 24 * 24)\n",
    "        x = self.layer3(x)\n",
    "        return x"
   ]
  },
  {
   "cell_type": "code",
   "execution_count": 65,
   "metadata": {},
   "outputs": [
    {
     "name": "stdout",
     "output_type": "stream",
     "text": [
      "[1,   500] loss: 10.519\n",
      "[1,  1000] loss: 2.306\n",
      "[1,  1500] loss: 2.304\n",
      "[2,   500] loss: 2.306\n",
      "[2,  1000] loss: 2.304\n",
      "[2,  1500] loss: 2.303\n",
      "[3,   500] loss: 2.304\n",
      "[3,  1000] loss: 2.303\n",
      "[3,  1500] loss: 2.303\n",
      "[4,   500] loss: 2.303\n",
      "[4,  1000] loss: 2.303\n",
      "[4,  1500] loss: 2.303\n",
      "[5,   500] loss: 2.303\n",
      "[5,  1000] loss: 2.303\n",
      "[5,  1500] loss: 2.303\n",
      "Finished Training\n"
     ]
    }
   ],
   "source": [
    "import torch.optim as optim\n",
    "\n",
    "LOSS_CHECK_RATE = 500\n",
    "\n",
    "net = Net().to(device = calc_device)\n",
    "\n",
    "criterion = nn.CrossEntropyLoss()\n",
    "optimizer = optim.SGD(net.parameters(), lr=0.001, momentum=0.9)\n",
    "\n",
    "for epoch in range(5):\n",
    "    running_loss = 0.0\n",
    "    for i, data in enumerate(trainloader, 0):\n",
    "        inputs, labels = data[0].to(calc_device), data[1].to(calc_device)\n",
    "        optimizer.zero_grad()\n",
    "        outputs = net(inputs)\n",
    "        loss = criterion(outputs, labels)\n",
    "        loss.backward()\n",
    "        optimizer.step()\n",
    "        running_loss += loss.item()\n",
    "        if i % LOSS_CHECK_RATE == (LOSS_CHECK_RATE-1):    # print every 2000 mini-batches\n",
    "            print('[%d, %5d] loss: %.3f' %(epoch + 1, i + 1, running_loss / LOSS_CHECK_RATE))\n",
    "            running_loss = 0.0\n",
    "\n",
    "print('Finished Training')"
   ]
  },
  {
   "cell_type": "code",
   "execution_count": 66,
   "metadata": {},
   "outputs": [
    {
     "name": "stdout",
     "output_type": "stream",
     "text": [
      "Accuracy of the network 9 %\n"
     ]
    }
   ],
   "source": [
    "correct = 0\n",
    "total = 0\n",
    "with torch.no_grad():\n",
    "    for data in testloader:\n",
    "        images, labels =  data[0].to(calc_device), data[1].to(calc_device)\n",
    "        outputs = net(images)\n",
    "        _, predicted = torch.max(outputs.data, 1)\n",
    "        total += labels.size(0)\n",
    "        correct += (predicted == labels).sum().item()\n",
    "\n",
    "print('Accuracy of the network %d %%' % (100 * correct / total))"
   ]
  },
  {
   "cell_type": "code",
   "execution_count": null,
   "metadata": {},
   "outputs": [],
   "source": []
  }
 ],
 "metadata": {
  "kernelspec": {
   "display_name": "Python 3",
   "language": "python",
   "name": "python3"
  },
  "language_info": {
   "codemirror_mode": {
    "name": "ipython",
    "version": 3
   },
   "file_extension": ".py",
   "mimetype": "text/x-python",
   "name": "python",
   "nbconvert_exporter": "python",
   "pygments_lexer": "ipython3",
   "version": "3.7.3"
  }
 },
 "nbformat": 4,
 "nbformat_minor": 2
}
