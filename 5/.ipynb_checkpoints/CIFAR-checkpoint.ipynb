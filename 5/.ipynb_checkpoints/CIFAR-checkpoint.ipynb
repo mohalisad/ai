{
 "cells": [
  {
   "cell_type": "code",
   "execution_count": 1,
   "metadata": {},
   "outputs": [
    {
     "data": {
      "text/html": [
       "<style>@font-face{font-family:Vazir;src:url(Vazir.eot);src:url(Vazir.eot?#iefix) format(\"embedded-opentype\"),url(Vazir.woff2) format(\"woff2\"),url(Vazir.woff) format(\"woff\"),url(Vazir.ttf) format(\"truetype\");font-weight:400;font-style:normal}.farsi{font-family:Vazir;direction:rtl}.center{text-align:center}.justify{text-align:justify}.blue{color:blue}</style>\n"
      ],
      "text/plain": [
       "<IPython.core.display.HTML object>"
      ]
     },
     "metadata": {},
     "output_type": "display_data"
    }
   ],
   "source": [
    "%%html\n",
    "<style>@font-face{font-family:Vazir;src:url(Vazir.eot);src:url(Vazir.eot?#iefix) format(\"embedded-opentype\"),url(Vazir.woff2) format(\"woff2\"),url(Vazir.woff) format(\"woff\"),url(Vazir.ttf) format(\"truetype\");font-weight:400;font-style:normal}.farsi{font-family:Vazir;direction:rtl}.center{text-align:center}.justify{text-align:justify}.blue{color:blue}</style>"
   ]
  },
  {
   "cell_type": "code",
   "execution_count": 2,
   "metadata": {},
   "outputs": [
    {
     "name": "stdout",
     "output_type": "stream",
     "text": [
      "loading........done\n"
     ]
    }
   ],
   "source": [
    "import pandas as pd\n",
    "import numpy as np\n",
    "\n",
    "BATCH_SIZE = 32\n",
    "CIFAR_LENGTH  = 32\n",
    "\n",
    "train_data    = pd.read_csv('CIFAR10/CIFAR10_train_data.csv' ,header=None)\n",
    "train_label   = pd.read_csv('CIFAR10/CIFAR10_train_label.csv',header=None)\n",
    "test_data     = pd.read_csv('CIFAR10/CIFAR10_val_data.csv'   ,header=None)\n",
    "test_label    = pd.read_csv('CIFAR10/CIFAR10_val_label.csv'  ,header=None)\n",
    "real_test     = pd.read_csv('CIFAR10/CIFAR10_test_data.csv'  ,header=None)\n",
    "\n",
    "classes = list(set(train_label[0].values))\n",
    "\n",
    "train_data['labels'] = train_label[0].apply(lambda x:classes.index(x))\n",
    "test_data['labels']  = test_label[0].apply(lambda x:classes.index(x))\n",
    "\n",
    "print('loading........done')"
   ]
  },
  {
   "cell_type": "code",
   "execution_count": 3,
   "metadata": {},
   "outputs": [
    {
     "name": "stdout",
     "output_type": "stream",
     "text": [
      "calc device is cuda\n"
     ]
    }
   ],
   "source": [
    "import torch\n",
    "calc_device = torch.device(\"cuda\" if torch.cuda.is_available() else \"cpu\")\n",
    "print(\"calc device is %s\" % calc_device)"
   ]
  },
  {
   "cell_type": "code",
   "execution_count": 4,
   "metadata": {},
   "outputs": [],
   "source": [
    "from PIL import Image\n",
    "import torchvision.transforms as transforms\n",
    "\n",
    "transform = transforms.Compose([transforms.ToTensor()])\n",
    "\n",
    "def vec_to_img(img_vec):\n",
    "    img_vec = img_vec.astype(np.uint8)\n",
    "    img_arr = np.asarray(img_vec).reshape((CIFAR_LENGTH,CIFAR_LENGTH,3))\n",
    "    return Image.fromarray(img_arr, 'RGB')\n",
    "\n",
    "trainset    = train_data.apply(lambda x:(transform(vec_to_img(x[:-1])),x['labels']),axis = 1)\n",
    "trainloader = torch.utils.data.DataLoader(trainset, batch_size=BATCH_SIZE)\n",
    "testset     = test_data.apply(lambda x:(transform(vec_to_img(x[:-1])),x['labels']),axis = 1)\n",
    "testloader  = torch.utils.data.DataLoader(testset, batch_size=BATCH_SIZE)"
   ]
  },
  {
   "cell_type": "code",
   "execution_count": 16,
   "metadata": {},
   "outputs": [],
   "source": [
    "import torch.optim as optim\n",
    "\n",
    "def train_net(net):\n",
    "    criterion = nn.CrossEntropyLoss()\n",
    "    optimizer = optim.SGD(net.parameters(), lr=0.001, momentum=0.9)\n",
    "    for epoch in range(5):\n",
    "        for i, data in enumerate(trainloader, 0):\n",
    "            inputs, labels = data[0].to(calc_device), data[1].to(calc_device)\n",
    "            optimizer.zero_grad()\n",
    "            outputs = net(inputs)\n",
    "            loss = criterion(outputs, labels)\n",
    "            loss.backward()\n",
    "            optimizer.step()\n",
    "\n",
    "def test_net(net):\n",
    "    correct = 0\n",
    "    total = 0\n",
    "    with torch.no_grad():\n",
    "        for data in testloader:\n",
    "            images, labels =  data[0].to(calc_device), data[1].to(calc_device)\n",
    "            outputs = net(images)\n",
    "            _, predicted = torch.max(outputs.data, 1)\n",
    "            total += labels.size(0)\n",
    "            correct += (predicted == labels).sum().item()\n",
    "    return 100 * correct / total\n",
    "    \n",
    "def train_and_test_net(net):\n",
    "    train_net(net)\n",
    "    return test_net(net)"
   ]
  },
  {
   "cell_type": "code",
   "execution_count": 23,
   "metadata": {},
   "outputs": [],
   "source": [
    "import torch.nn as nn\n",
    "import torch.nn.functional as nnf\n",
    "\n",
    "class NetQ1(nn.Module):\n",
    "    def __init__(self,random = False,activation = nnf.relu):\n",
    "        super(NetQ1, self).__init__()\n",
    "        \n",
    "        self.activation = activation\n",
    "        \n",
    "        self.layer1 = nn.Conv2d(3, 6, 5)\n",
    "        self.layer2 = nn.Conv2d(6, 16, 5)\n",
    "        self.layer3 = nn.Linear(16 * 24 * 24, 10)\n",
    "        if random:    \n",
    "            self.layer1.weight = torch.nn.Parameter(torch.randn(6,3,5,5))\n",
    "            self.layer2.weight = torch.nn.Parameter(torch.randn(16,6,5,5))\n",
    "            self.layer3.weight = torch.nn.Parameter(torch.randn(10,16 * 24 * 24))\n",
    "        self.to(device = calc_device)\n",
    "    def forward(self, x):\n",
    "        x = self.activation(self.layer1(x))\n",
    "        x = self.activation(self.layer2(x))\n",
    "        x = x.view(-1, 16 * 24 * 24)\n",
    "        x = self.layer3(x)\n",
    "        return x"
   ]
  },
  {
   "cell_type": "code",
   "execution_count": 24,
   "metadata": {},
   "outputs": [
    {
     "name": "stdout",
     "output_type": "stream",
     "text": [
      "Accuracy of normal_net is 56 %\n",
      "Accuracy of random_net is 9 %\n"
     ]
    }
   ],
   "source": [
    "normal_net = NetQ1()\n",
    "random_net = NetQ1(random = True)\n",
    "print(\"Accuracy of normal_net is %d %%\" % train_and_test_net(normal_net))\n",
    "print(\"Accuracy of random_net is %d %%\" % train_and_test_net(random_net))"
   ]
  },
  {
   "cell_type": "code",
   "execution_count": 27,
   "metadata": {},
   "outputs": [
    {
     "name": "stdout",
     "output_type": "stream",
     "text": [
      "Accuracy of relu_net is 55 %\n",
      "Accuracy of leaky_relu_net is 55 %\n",
      "Accuracy of softplus_net is 48 %\n"
     ]
    },
    {
     "name": "stderr",
     "output_type": "stream",
     "text": [
      "/home/mohalisad/anaconda3/lib/python3.7/site-packages/torch/nn/functional.py:1374: UserWarning: nn.functional.tanh is deprecated. Use torch.tanh instead.\n",
      "  warnings.warn(\"nn.functional.tanh is deprecated. Use torch.tanh instead.\")\n"
     ]
    },
    {
     "name": "stdout",
     "output_type": "stream",
     "text": [
      "Accuracy of tanh_net is 44 %\n"
     ]
    }
   ],
   "source": [
    "relu_net       = NetQ1(activation = nnf.relu)\n",
    "leaky_relu_net = NetQ1(activation = nnf.leaky_relu)\n",
    "softplus_net   = NetQ1(activation = nnf.softplus)\n",
    "tanh_net       = NetQ1(activation = nnf.tanh)\n",
    "print(\"Accuracy of relu_net is %d %%\" % train_and_test_net(relu_net))\n",
    "print(\"Accuracy of leaky_relu_net is %d %%\" % train_and_test_net(leaky_relu_net))\n",
    "print(\"Accuracy of softplus_net is %d %%\" % train_and_test_net(softplus_net))\n",
    "print(\"Accuracy of tanh_net is %d %%\" % train_and_test_net(tanh_net))"
   ]
  },
  {
   "cell_type": "code",
   "execution_count": null,
   "metadata": {},
   "outputs": [],
   "source": []
  }
 ],
 "metadata": {
  "kernelspec": {
   "display_name": "Python 3",
   "language": "python",
   "name": "python3"
  },
  "language_info": {
   "codemirror_mode": {
    "name": "ipython",
    "version": 3
   },
   "file_extension": ".py",
   "mimetype": "text/x-python",
   "name": "python",
   "nbconvert_exporter": "python",
   "pygments_lexer": "ipython3",
   "version": "3.7.3"
  }
 },
 "nbformat": 4,
 "nbformat_minor": 2
}
